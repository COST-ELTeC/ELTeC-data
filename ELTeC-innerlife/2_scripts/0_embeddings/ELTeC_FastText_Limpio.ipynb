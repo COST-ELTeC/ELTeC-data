{
  "nbformat": 4,
  "nbformat_minor": 0,
  "metadata": {
    "colab": {
      "provenance": []
    },
    "kernelspec": {
      "name": "python3",
      "display_name": "Python 3"
    },
    "language_info": {
      "name": "python"
    }
  },
  "cells": [
    {
      "cell_type": "markdown",
      "metadata": {
        "id": "SYy5fYpN2CtM"
      },
      "source": [
        "# Intro - FastText.\n",
        "\n",
        "Extracción de palabras similares.\n",
        "\n",
        "Borja Navarro Colorado | Universidad de Alicante\n",
        "\n",
        "Junio 2021\n",
        "\n"
      ]
    },
    {
      "cell_type": "markdown",
      "metadata": {
        "id": "vQbs7dt0_U3C"
      },
      "source": [
        "# Tareas\n",
        "\n",
        "- Cargar el modelo para español. Ver web de FastText:\n",
        "  \n",
        "  https://fasttext.cc/docs/en/crawl-vectors.html\n",
        "\n",
        "  https://radimrehurek.com/gensim/models/fasttext.html#gensim.models.fasttext.load_facebook_model\n",
        "\n",
        "-"
      ]
    },
    {
      "cell_type": "markdown",
      "metadata": {
        "id": "ebjfvfLA4Lcf"
      },
      "source": [
        "# Fuentes\n",
        "\n",
        "El código siguiente está tomado o inspirado en el tutorial de Gensim:\n",
        "\n",
        "  https://radimrehurek.com/gensim/auto_examples/tutorials/run_fasttext.html\n",
        "\n",
        "  https://radimrehurek.com/gensim/models/fasttext.html\n",
        "\n",
        "O de la propia página de FastText:\n",
        "\n",
        "  https://fasttext.cc/docs/en/support.html\n",
        "\n",
        "  https://fasttext.cc/docs/en/crawl-vectors.html"
      ]
    },
    {
      "cell_type": "markdown",
      "metadata": {
        "id": "4Mlcg7mn_jg4"
      },
      "source": [
        "# Proceso"
      ]
    },
    {
      "cell_type": "code",
      "source": [
        "#Utils\n",
        "#!rm -r /content/fastText/\n",
        "#! ls -l"
      ],
      "metadata": {
        "id": "c5rrZ3vN-ffv",
        "colab": {
          "base_uri": "https://localhost:8080/"
        },
        "outputId": "6bef7ca4-6c0a-4316-95a5-bc7e2b0143e8"
      },
      "execution_count": null,
      "outputs": [
        {
          "output_type": "stream",
          "name": "stdout",
          "text": [
            "shell-init: error retrieving current directory: getcwd: cannot access parent directories: No such file or directory\n",
            "total 0\n"
          ]
        }
      ]
    },
    {
      "cell_type": "markdown",
      "metadata": {
        "id": "4smwJaABBudw"
      },
      "source": [
        "Instala Fast Text"
      ]
    },
    {
      "cell_type": "code",
      "metadata": {
        "id": "A4Soyr25BtlL"
      },
      "source": [
        "!git clone https://github.com/facebookresearch/fastText.git\n",
        "%cd /content/fastText/\n",
        "!python setup.py install"
      ],
      "execution_count": null,
      "outputs": []
    },
    {
      "cell_type": "markdown",
      "metadata": {
        "id": "OTCIR0BFEXx1"
      },
      "source": [
        "Cargamos librerías, etc."
      ]
    },
    {
      "cell_type": "code",
      "metadata": {
        "id": "ieXa0V0hEmsh"
      },
      "source": [
        "import fasttext"
      ],
      "execution_count": null,
      "outputs": []
    },
    {
      "cell_type": "markdown",
      "metadata": {
        "id": "YsmzmznhAt3I"
      },
      "source": [
        "# Modelo para español"
      ]
    },
    {
      "cell_type": "code",
      "metadata": {
        "id": "e_HzUM1cAzsI"
      },
      "source": [
        "import fasttext.util"
      ],
      "execution_count": null,
      "outputs": []
    },
    {
      "cell_type": "code",
      "metadata": {
        "colab": {
          "base_uri": "https://localhost:8080/",
          "height": 35
        },
        "id": "WHh7HDqyFRdR",
        "outputId": "f92bc31a-9f7d-41db-d581-b9f3b3de5394"
      },
      "source": [
        "# Cuidado: tarda mucho en descargar el modelo. 30 minutos aprox.\n",
        "\n",
        "#fasttext.util.download_model('en', if_exists='ignore')  # English\n",
        "fasttext.util.download_model('es', if_exists='ignore')  # Spanish"
      ],
      "execution_count": null,
      "outputs": [
        {
          "output_type": "execute_result",
          "data": {
            "text/plain": [
              "'cc.es.300.bin'"
            ],
            "application/vnd.google.colaboratory.intrinsic+json": {
              "type": "string"
            }
          },
          "metadata": {},
          "execution_count": 8
        }
      ]
    },
    {
      "cell_type": "markdown",
      "metadata": {
        "id": "6M-6xQpsIGSq"
      },
      "source": [
        "Activar el módulo de idioma descargado.\n",
        "\n",
        "Dos opciones, a ver cuál funciona:"
      ]
    },
    {
      "cell_type": "code",
      "metadata": {
        "id": "AKJ3XAmUGRfM"
      },
      "source": [
        "#Apagar el que no proceda\n",
        "\n",
        "# Con FastText\n",
        "ft = fasttext.load_model('cc.es.300.bin')\n"
      ],
      "execution_count": null,
      "outputs": []
    },
    {
      "cell_type": "code",
      "source": [
        "#Prueba: \n",
        "ft.get_nearest_neighbors('cantar',50)"
      ],
      "metadata": {
        "id": "Udcl2q4TKpoT"
      },
      "execution_count": null,
      "outputs": []
    },
    {
      "cell_type": "markdown",
      "source": [
        "Palabras: \n",
        "+ perception: to see\n",
        "+ physiology: to wake up\n",
        "+ affect: to like\n",
        "+ volition: to want\n",
        "+ cognition: to know\n",
        "+ moral_judgment: to have to\n"
      ],
      "metadata": {
        "id": "Nvtl3yLQNWsv"
      }
    },
    {
      "cell_type": "code",
      "source": [
        "ft.get_nearest_neighbors('ver',50)"
      ],
      "metadata": {
        "colab": {
          "base_uri": "https://localhost:8080/"
        },
        "id": "gMLkAz8fNU-Y",
        "outputId": "79be1b1e-9636-4cc2-eb62-0585b09d2dc3"
      },
      "execution_count": null,
      "outputs": [
        {
          "output_type": "execute_result",
          "data": {
            "text/plain": [
              "[(0.7038661241531372, 'mirar'),\n",
              " (0.6976467967033386, 'observar'),\n",
              " (0.6777660846710205, 'comprobar'),\n",
              " (0.6737200021743774, 'verlo'),\n",
              " (0.6424006819725037, 'apreciar'),\n",
              " (0.6267668604850769, 'verla'),\n",
              " (0.6261934041976929, 'verlos'),\n",
              " (0.6234112977981567, 'viendo'),\n",
              " (0.6171846985816956, 'saber'),\n",
              " (0.6155871152877808, 'ver.Y'),\n",
              " (0.611077606678009, 'visualizar'),\n",
              " (0.6054529547691345, 'obsevar'),\n",
              " (0.6045031547546387, 'verle'),\n",
              " (0.6036742925643921, 'ver.A'),\n",
              " (0.597938597202301, 'ver.Ahora'),\n",
              " (0.5972440242767334, 'verlas'),\n",
              " (0.5972294211387634, 'visionar'),\n",
              " (0.5909518003463745, 'contemplar'),\n",
              " (0.5902913808822632, 'constatar'),\n",
              " (0.5896923542022705, 'verse'),\n",
              " (0.5778546929359436, 'ver.Pero'),\n",
              " (0.5773686170578003, 'verles'),\n",
              " (0.5749714374542236, 'intuir'),\n",
              " (0.5739423632621765, 'leer'),\n",
              " (0.5707577466964722, 'conocer'),\n",
              " (0.5675318837165833, 'mostrar'),\n",
              " (0.5673413872718811, 'verlo.A'),\n",
              " (0.567044198513031, 'revisar'),\n",
              " (0.5666581392288208, 'ver.De'),\n",
              " (0.563189685344696, 'descubrir'),\n",
              " (0.5625695586204529, 'imaginar'),\n",
              " (0.5600565671920776, 'ver.Lo'),\n",
              " (0.5596571564674377, 'oir'),\n",
              " (0.5572862029075623, 'ver.Ya'),\n",
              " (0.5545740723609924, 'apreciarse'),\n",
              " (0.5532253980636597, 'ver.En'),\n",
              " (0.5522018074989319, 'visulizar'),\n",
              " (0.5515294075012207, 'obervar'),\n",
              " (0.5514149069786072, 'verlo.Y'),\n",
              " (0.5505423545837402, 'comprobarlo'),\n",
              " (0.5484253764152527, 'ojear'),\n",
              " (0.5477800965309143, 'escuchar'),\n",
              " (0.5469865202903748, 'ver.Al'),\n",
              " (0.5464897751808167, 'vislumbrar'),\n",
              " (0.5449668765068054, 'comentar'),\n",
              " (0.5446499586105347, 'verla.Y'),\n",
              " (0.5436139106750488, 'pensar'),\n",
              " (0.5436070561408997, 'admirar'),\n",
              " (0.5428534746170044, 'comparar'),\n",
              " (0.5427929759025574, 'oír')]"
            ]
          },
          "metadata": {},
          "execution_count": 21
        }
      ]
    },
    {
      "cell_type": "code",
      "source": [
        "ft.get_nearest_neighbors('despertar',50)"
      ],
      "metadata": {
        "colab": {
          "base_uri": "https://localhost:8080/"
        },
        "id": "VM8eF90gNrnN",
        "outputId": "d46c4c4a-8ee8-4045-b70e-f87e24aefd43"
      },
      "execution_count": null,
      "outputs": [
        {
          "output_type": "execute_result",
          "data": {
            "text/plain": [
              "[(0.7618241906166077, 'despertarse'),\n",
              " (0.7388926148414612, 'Despertar'),\n",
              " (0.7193759083747864, 'despierta'),\n",
              " (0.7162534594535828, 'despertarle'),\n",
              " (0.7137395739555359, 'despertarnos'),\n",
              " (0.6994396448135376, 'despertarles'),\n",
              " (0.6894825100898743, 'despertarme'),\n",
              " (0.6832795739173889, 'despertando'),\n",
              " (0.6814907789230347, 'despierte'),\n",
              " (0.6748775243759155, 'despertarte'),\n",
              " (0.6687490940093994, 'despertarlos'),\n",
              " (0.6684362292289734, 'despertara'),\n",
              " (0.6589022874832153, 'despiertan'),\n",
              " (0.6553112268447876, 'despertará'),\n",
              " (0.6533179879188538, 'despertaran'),\n",
              " (0.6530877947807312, 'despertarla'),\n",
              " (0.6465700268745422, 'despertarlas'),\n",
              " (0.6459667086601257, 'Despertarse'),\n",
              " (0.644461989402771, 'despertarlo'),\n",
              " (0.642069399356842, 'redespertar'),\n",
              " (0.641108512878418, 'despierten'),\n",
              " (0.6383661031723022, 'despertado'),\n",
              " (0.6347602009773254, 'Despertarnos'),\n",
              " (0.6237020492553711, 'depertar'),\n",
              " (0.6137577295303345, 'despertaros'),\n",
              " (0.6122815608978271, 'despertó'),\n",
              " (0.6032576560974121, 'despertaron'),\n",
              " (0.6004678010940552, 'despertándole'),\n",
              " (0.5999736189842224, 'despertaría'),\n",
              " (0.5970499515533447, 'Despertarte'),\n",
              " (0.5941963791847229, 'desperar'),\n",
              " (0.593612790107727, 'despertase'),\n",
              " (0.5934060215950012, 'desperta'),\n",
              " (0.592215895652771, 'despetar'),\n",
              " (0.5889071822166443, 'despiertas'),\n",
              " (0.588046133518219, 'despertarán'),\n",
              " (0.5816391706466675, 'Despertarme'),\n",
              " (0.5801860094070435, 'despertándonos'),\n",
              " (0.579818844795227, 'letargo'),\n",
              " (0.5776433348655701, 'despierto'),\n",
              " (0.577625036239624, 'despertándose'),\n",
              " (0.577591598033905, 'despertar.El'),\n",
              " (0.5771299004554749, 'despiertes'),\n",
              " (0.5756621360778809, 'despertemos'),\n",
              " (0.5743846893310547, 'despertamos'),\n",
              " (0.5739040374755859, 'despertada'),\n",
              " (0.5726868510246277, 're-despertar'),\n",
              " (0.5719548463821411, 'despertares'),\n",
              " (0.5702081322669983, 'levantarse'),\n",
              " (0.5694648623466492, 'despertar.Y')]"
            ]
          },
          "metadata": {},
          "execution_count": 20
        }
      ]
    },
    {
      "cell_type": "code",
      "source": [
        "ft.get_nearest_neighbors('gustar',50)"
      ],
      "metadata": {
        "colab": {
          "base_uri": "https://localhost:8080/"
        },
        "id": "uKaPSkryN0ar",
        "outputId": "be069636-2c66-4415-ce59-66ed9badd9bd"
      },
      "execution_count": null,
      "outputs": [
        {
          "output_type": "execute_result",
          "data": {
            "text/plain": [
              "[(0.7491419315338135, 'gustarle'),\n",
              " (0.737604022026062, 'gustarte'),\n",
              " (0.7267510890960693, 'gustarme'),\n",
              " (0.6745099425315857, 'gustarnos'),\n",
              " (0.6697194576263428, 'interesar'),\n",
              " (0.6650325059890747, 'gustarles'),\n",
              " (0.6556925177574158, 'disgustar'),\n",
              " (0.6332030296325684, 'encantar'),\n",
              " (0.6303731799125671, 'gustarse'),\n",
              " (0.6269081830978394, 'encantarle'),\n",
              " (0.6220484972000122, 'encantarme'),\n",
              " (0.6153765916824341, 'encantarte'),\n",
              " (0.6062935590744019, 'gustaros'),\n",
              " (0.59725421667099, 'fascinar'),\n",
              " (0.5913493037223816, 'apetecer'),\n",
              " (0.5902923345565796, 'apasionar'),\n",
              " (0.5896841883659363, 'gustarla'),\n",
              " (0.5860362648963928, 'decepcionar'),\n",
              " (0.5858843326568604, 'disgustarme'),\n",
              " (0.5826299786567688, 'gustar.'),\n",
              " (0.5823022127151489, 'interesarle'),\n",
              " (0.579962968826294, 'desagradar'),\n",
              " (0.5742923617362976, 'gustará'),\n",
              " (0.5727317333221436, 'encantarles'),\n",
              " (0.5721251964569092, 'gusta'),\n",
              " (0.5708318948745728, 'gustando'),\n",
              " (0.5700292587280273, 'entusiasmarme'),\n",
              " (0.5667198896408081, 'enamorar'),\n",
              " (0.5641405582427979, 'Gustar'),\n",
              " (0.5624546408653259, 'gustan'),\n",
              " (0.5508638620376587, 'desagradarme'),\n",
              " (0.5505576133728027, 'gustara'),\n",
              " (0.5498371720314026, 'gustándote'),\n",
              " (0.5492863655090332, 'entusiasmar'),\n",
              " (0.5481865406036377, 'sorprender'),\n",
              " (0.5448902249336243, 'agradar'),\n",
              " (0.543418824672699, 'encante'),\n",
              " (0.5384693741798401, 'gustán'),\n",
              " (0.535759687423706, 'querer'),\n",
              " (0.5334304571151733, 'agradarme'),\n",
              " (0.5323403477668762, 'gustarán'),\n",
              " (0.5311689972877502, 'gustándome'),\n",
              " (0.5298627614974976, 'gustarlo'),\n",
              " (0.5292285680770874, 'disgustarte'),\n",
              " (0.5286273956298828, 'gustaran'),\n",
              " (0.5262113809585571, 'gustá'),\n",
              " (0.5243299007415771, 'gustándonos'),\n",
              " (0.5236763954162598, 'gustándoles'),\n",
              " (0.5208777785301208, 'Gustarme'),\n",
              " (0.5206004977226257, 'aburrir')]"
            ]
          },
          "metadata": {},
          "execution_count": 19
        }
      ]
    },
    {
      "cell_type": "code",
      "source": [
        "ft.get_nearest_neighbors('querer',50)"
      ],
      "metadata": {
        "colab": {
          "base_uri": "https://localhost:8080/"
        },
        "id": "7QmFhOxKN2xb",
        "outputId": "6a143bec-454c-435e-d6a9-dc43a2a166be"
      },
      "execution_count": null,
      "outputs": [
        {
          "output_type": "execute_result",
          "data": {
            "text/plain": [
              "[(0.7460403442382812, 'queriendo'),\n",
              " (0.7223238945007324, 'pretender'),\n",
              " (0.6763128638267517, 'Querer'),\n",
              " (0.6740235686302185, 'intentar'),\n",
              " (0.6640721559524536, 'quererlo'),\n",
              " (0.6443511843681335, 'empecinarme'),\n",
              " (0.6413516402244568, 'quererle'),\n",
              " (0.6371526122093201, 'empecinarse'),\n",
              " (0.6347413063049316, 'intentarme'),\n",
              " (0.6329477429389954, 'quererla'),\n",
              " (0.6310741305351257, 'empecinarnos'),\n",
              " (0.6278313994407654, 'querar'),\n",
              " (0.6258435845375061, 'intentarte'),\n",
              " (0.6223852634429932, 'quererse'),\n",
              " (0.6217050552368164, 'querrer'),\n",
              " (0.6174628734588623, 'queriéndo'),\n",
              " (0.6157622337341309, 'pretenderla'),\n",
              " (0.6133573651313782, 'empeñarse'),\n",
              " (0.6113137006759644, 'intentarnos'),\n",
              " (0.6104913949966431, 'encaprichar'),\n",
              " (0.6097753047943115, 'quererles'),\n",
              " (0.6056139469146729, 'obstinarse'),\n",
              " (0.6052787899971008, 'quierer'),\n",
              " (0.6010313034057617, 'amar'),\n",
              " (0.5992652177810669, 'dejar'),\n",
              " (0.5990176796913147, 'creer'),\n",
              " (0.5988161563873291, 'serlo'),\n",
              " (0.5979316234588623, 'kerer'),\n",
              " (0.5948858261108398, 'querernos'),\n",
              " (0.5924475789070129, 'empeñarte'),\n",
              " (0.5912277102470398, 'emperrarse'),\n",
              " (0.591147780418396, 'preferir'),\n",
              " (0.590927243232727, 'intenar'),\n",
              " (0.5899114608764648, 'quererlos'),\n",
              " (0.5896522402763367, 'aquerer'),\n",
              " (0.5889421105384827, 'quererme'),\n",
              " (0.5888382196426392, 'desear'),\n",
              " (0.586171567440033, 'odiar'),\n",
              " (0.5847135782241821, 'dejarse'),\n",
              " (0.5843631029129028, 'obligarnos'),\n",
              " (0.5843102335929871, 'gustarle'),\n",
              " (0.5840797424316406, 'pensar'),\n",
              " (0.5828341245651245, 'quererlas'),\n",
              " (0.5825387835502625, 'encapricharse'),\n",
              " (0.5817328095436096, 'entrometer'),\n",
              " (0.5816559195518494, 'obcecar'),\n",
              " (0.5808018445968628, 'afán'),\n",
              " (0.5807104706764221, 'ambicionar'),\n",
              " (0.579804539680481, 'interntar'),\n",
              " (0.5794552564620972, 'disgustarnos')]"
            ]
          },
          "metadata": {},
          "execution_count": 18
        }
      ]
    },
    {
      "cell_type": "code",
      "source": [
        "ft.get_nearest_neighbors('saber',50)"
      ],
      "metadata": {
        "colab": {
          "base_uri": "https://localhost:8080/"
        },
        "id": "GsrFWz-oN5KD",
        "outputId": "1854ec47-0585-4f79-9888-003e70767e54"
      },
      "execution_count": null,
      "outputs": [
        {
          "output_type": "execute_result",
          "data": {
            "text/plain": [
              "[(0.7451412677764893, 'averiguar'),\n",
              " (0.7224603295326233, 'saberlo'),\n",
              " (0.6889967918395996, 'saberse'),\n",
              " (0.6709490418434143, 'desaber'),\n",
              " (0.6695612072944641, 'saberde'),\n",
              " (0.6692834496498108, 'conocer'),\n",
              " (0.6632499694824219, 'preguntar'),\n",
              " (0.661592423915863, 'averigüar'),\n",
              " (0.6605440974235535, 'saberlos'),\n",
              " (0.6540095210075378, 'saberla'),\n",
              " (0.653346598148346, 'saberles'),\n",
              " (0.6508472561836243, 'entender'),\n",
              " (0.6470423936843872, 'saberle'),\n",
              " (0.6413596272468567, 'saber.Pero'),\n",
              " (0.6373430490493774, 'nosaber'),\n",
              " (0.6318010091781616, 'saberr'),\n",
              " (0.6299569606781006, 'especificarnos'),\n",
              " (0.6290533542633057, 'peguntar'),\n",
              " (0.6283192038536072, 'comprender'),\n",
              " (0.6250733137130737, 'preguntarle'),\n",
              " (0.6233850121498108, 'sepa'),\n",
              " (0.6206034421920776, 'ssaber'),\n",
              " (0.6203206777572632, 'detallarme'),\n",
              " (0.6202667355537415, 'aprender'),\n",
              " (0.6197906136512756, 'decirnos'),\n",
              " (0.6171844005584717, 'ver'),\n",
              " (0.6171008944511414, 'sabe'),\n",
              " (0.6170032620429993, 'intuir'),\n",
              " (0.6160275340080261, 'parasaber'),\n",
              " (0.6155588030815125, 'sabercómo'),\n",
              " (0.6147637367248535, 'sabercomo'),\n",
              " (0.613777756690979, 'decirme'),\n",
              " (0.6123997569084167, 'precisar'),\n",
              " (0.6113772392272949, 'averigüa'),\n",
              " (0.6110566258430481, 'comprobar'),\n",
              " (0.6101978421211243, 'descubrir'),\n",
              " (0.609345555305481, 'especificarte'),\n",
              " (0.6090023517608643, 'preguntarte'),\n",
              " (0.6089347004890442, 'deconocer'),\n",
              " (0.6087770462036133, 'especificarme'),\n",
              " (0.6086883544921875, 'sabera'),\n",
              " (0.60733562707901, 'saberlas'),\n",
              " (0.6070029139518738, 'sepamos'),\n",
              " (0.6036251783370972, 'decir'),\n",
              " (0.6024325489997864, 'preguntarse'),\n",
              " (0.6020036935806274, 'saberSi'),\n",
              " (0.5993966460227966, 'saber.Y'),\n",
              " (0.5989288687705994, 'sepan'),\n",
              " (0.5980607271194458, 'quesaber'),\n",
              " (0.5976864099502563, 'sabery')]"
            ]
          },
          "metadata": {},
          "execution_count": 17
        }
      ]
    },
    {
      "cell_type": "code",
      "source": [
        "ft.get_nearest_neighbors('tener',50)"
      ],
      "metadata": {
        "id": "8dnwre58OCAq"
      },
      "execution_count": null,
      "outputs": []
    },
    {
      "cell_type": "markdown",
      "source": [
        "ft.get_nearest_neighbors('tener',50) no corresponde al sentido de \"have to\". ❌ **Corregir.**\n",
        "\n",
        "VAmos a probar con \"deber\":"
      ],
      "metadata": {
        "id": "IIYjjUUhb5gP"
      }
    },
    {
      "cell_type": "code",
      "source": [
        "ft.get_nearest_neighbors('deber',50)"
      ],
      "metadata": {
        "colab": {
          "base_uri": "https://localhost:8080/"
        },
        "id": "UOdH2_joAgBp",
        "outputId": "33b695ec-c1cc-49cc-d3ee-f9c4576624b7"
      },
      "execution_count": null,
      "outputs": [
        {
          "output_type": "execute_result",
          "data": {
            "text/plain": [
              "[(0.7185460925102234, 'obligación'),\n",
              " (0.646662175655365, 'deberde'),\n",
              " (0.6286560297012329, 'deber.'),\n",
              " (0.6080352663993835, 'deberlo'),\n",
              " (0.607053816318512, 'derecho-deber'),\n",
              " (0.6049274802207947, 'deber.El'),\n",
              " (0.5961700677871704, 'obligaci'),\n",
              " (0.594721794128418, 'laobligación'),\n",
              " (0.5906845331192017, 'eldeber'),\n",
              " (0.588855504989624, 'obligacion'),\n",
              " (0.5626958012580872, 'imperativo'),\n",
              " (0.5608063340187073, 'irrenunciable'),\n",
              " (0.5589209198951721, 'compromiso'),\n",
              " (0.5520173907279968, 'deberles'),\n",
              " (0.5498157739639282, 'poder-deber'),\n",
              " (0.5445663928985596, 'Deber'),\n",
              " (0.5407208204269409, 'deber-'),\n",
              " (0.5401438474655151, 'responsabilidad'),\n",
              " (0.5400949120521545, 'cumplir'),\n",
              " (0.5398821830749512, 'uncompromiso'),\n",
              " (0.5395060777664185, 'obligaciónde'),\n",
              " (0.5371071696281433, 'incumbe'),\n",
              " (0.5291287302970886, 'precepto'),\n",
              " (0.5241283178329468, 'inexcusable'),\n",
              " (0.5233410000801086, 'deberos'),\n",
              " (0.5230421423912048, 'Obligación'),\n",
              " (0.5215423703193665, 'obligacio'),\n",
              " (0.5179020762443542, 'obedecer'),\n",
              " (0.5164794921875, 'deberla'),\n",
              " (0.5161548256874084, 'deberes'),\n",
              " (0.5153539180755615, 'debernos'),\n",
              " (0.5137612819671631, 'deberte'),\n",
              " (0.5130098462104797, 'elcompromiso'),\n",
              " (0.5113208889961243, 'ineludible'),\n",
              " (0.511168360710144, 'cumplimiento'),\n",
              " (0.5102487802505493, 'deberme'),\n",
              " (0.507439374923706, 'ínsito'),\n",
              " (0.5072110295295715, 'obligaciòn'),\n",
              " (0.506400465965271, 'derecho'),\n",
              " (0.5061690807342529, 'eximirse'),\n",
              " (0.5048703551292419, 'obligacin'),\n",
              " (0.5025899410247803, 'indelegable'),\n",
              " (0.5022479891777039, 'primordial'),\n",
              " (0.5013178586959839, 'respetar'),\n",
              " (0.50008225440979, 'obligaciones'),\n",
              " (0.4961452782154083, 'deber-ser'),\n",
              " (0.4933735430240631, 'reponsabilidad'),\n",
              " (0.4925175607204437, 'requisito'),\n",
              " (0.49234405159950256, 'cumplimento'),\n",
              " (0.492297887802124, 'dever')]"
            ]
          },
          "metadata": {},
          "execution_count": 11
        }
      ]
    }
  ]
}