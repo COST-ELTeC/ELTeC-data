{
  "nbformat": 4,
  "nbformat_minor": 0,
  "metadata": {
    "colab": {
      "provenance": []
    },
    "kernelspec": {
      "name": "python3",
      "display_name": "Python 3"
    },
    "language_info": {
      "name": "python"
    }
  },
  "cells": [
    {
      "cell_type": "code",
      "execution_count": null,
      "metadata": {
        "id": "qvGELtnfgPNO"
      },
      "outputs": [],
      "source": [
        "import pandas as pd\n",
        "import plotly.express as px"
      ]
    },
    {
      "cell_type": "code",
      "source": [],
      "metadata": {
        "id": "NYqew8185Msu"
      },
      "execution_count": null,
      "outputs": []
    },
    {
      "cell_type": "code",
      "source": [
        "! git clone https://github.com/COST-ELTeC/ELTeC-deu.git "
      ],
      "metadata": {
        "id": "j0aAtWE4gTMt"
      },
      "execution_count": null,
      "outputs": []
    },
    {
      "cell_type": "code",
      "source": [
        "! git clone https://github.com/COST-ELTeC/ELTeC-data.git"
      ],
      "metadata": {
        "id": "8Q8aFEZVg_T4"
      },
      "execution_count": null,
      "outputs": []
    },
    {
      "cell_type": "code",
      "source": [
        "df_meta = pd.read_csv(\"/content/ELTeC-deu/metadata/metadata.txt\", sep=\",\")"
      ],
      "metadata": {
        "id": "QlbXwyOygwqt"
      },
      "execution_count": null,
      "outputs": []
    },
    {
      "cell_type": "code",
      "source": [
        "df_data = pd.read_csv(\"/content/ELTeC-data/deu/manualCounts.dat\", sep=\" \")"
      ],
      "metadata": {
        "id": "6epOdTONhap9"
      },
      "execution_count": null,
      "outputs": []
    },
    {
      "cell_type": "code",
      "source": [
        "df_data[\"anteil_innerVerbs\"] = df_data[\"innerVerbs\"]/df_data[\"verbs\"]"
      ],
      "metadata": {
        "id": "9sAAghveh3NN"
      },
      "execution_count": null,
      "outputs": []
    },
    {
      "cell_type": "code",
      "source": [
        "df_data = df_data.drop([\"year\"], axis=1)"
      ],
      "metadata": {
        "id": "v9uhw_YVlplg"
      },
      "execution_count": null,
      "outputs": []
    },
    {
      "cell_type": "code",
      "source": [
        "df = pd.concat([df_meta, df_data], axis=1, join=\"inner\")"
      ],
      "metadata": {
        "id": "RGHpLzYlhkEo"
      },
      "execution_count": null,
      "outputs": []
    },
    {
      "cell_type": "code",
      "source": [
        "df.columns"
      ],
      "metadata": {
        "colab": {
          "base_uri": "https://localhost:8080/"
        },
        "id": "gls4bIffrs8d",
        "outputId": "2337b033-b4db-4935-835b-66c9cee75b30"
      },
      "execution_count": null,
      "outputs": [
        {
          "output_type": "execute_result",
          "data": {
            "text/plain": [
              "Index(['id', 'author-name', 'book-title', 'subgenre', 'year', 'year-cat',\n",
              "       'canon-cat', 'gender-cat', 'length', 'length-cat', 'counter',\n",
              "       'Author-birth', 'Author-death', 'GND', '0textId', 'verbs', 'innerVerbs',\n",
              "       'sehen:perception', 'wollen:volition', 'müssen:moral',\n",
              "       'wissen:cognition', 'sollen:moral', 'mögen:affect', 'meinen:cognition',\n",
              "       'hören:cognition', 'denken:cognition', 'lieben:affect', 'fühlen:affect',\n",
              "       'verstehen:cognition', 'erkennen:cognition', 'vergessen:cognition',\n",
              "       'brauchen:volition', 'vermögen:volition', 'blicken:perception',\n",
              "       'bemerken:perception', 'Unnamed: 22', 'anteil_innerVerbs'],\n",
              "      dtype='object')"
            ]
          },
          "metadata": {},
          "execution_count": 87
        }
      ]
    },
    {
      "cell_type": "code",
      "source": [
        "fig = px.scatter(df, x=\"year\", y=\"anteil_innerVerbs\", trendline=\"ols\", color=\"canon-cat\", hover_data=[\"author-name\", \"book-title\"])\n",
        "fig.show()"
      ],
      "metadata": {
        "colab": {
          "base_uri": "https://localhost:8080/",
          "height": 542
        },
        "id": "oDVM9Re1h9wS",
        "outputId": "eec7f6c4-33b6-4014-e0fc-dcf7f3ff719b"
      },
      "execution_count": null,
      "outputs": [
        {
          "output_type": "display_data",
          "data": {
            "text/html": [
              "<html>\n",
              "<head><meta charset=\"utf-8\" /></head>\n",
              "<body>\n",
              "    <div>            <script src=\"https://cdnjs.cloudflare.com/ajax/libs/mathjax/2.7.5/MathJax.js?config=TeX-AMS-MML_SVG\"></script><script type=\"text/javascript\">if (window.MathJax) {MathJax.Hub.Config({SVG: {font: \"STIX-Web\"}});}</script>                <script type=\"text/javascript\">window.PlotlyConfig = {MathJaxConfig: 'local'};</script>\n",
              "        <script src=\"https://cdn.plot.ly/plotly-2.8.3.min.js\"></script>                <div id=\"1a076e9a-10e4-4e52-9a76-f32c7911d429\" class=\"plotly-graph-div\" style=\"height:525px; width:100%;\"></div>            <script type=\"text/javascript\">                                    window.PLOTLYENV=window.PLOTLYENV || {};                                    if (document.getElementById(\"1a076e9a-10e4-4e52-9a76-f32c7911d429\")) {                    Plotly.newPlot(                        \"1a076e9a-10e4-4e52-9a76-f32c7911d429\",                        [{\"customdata\":[[\"Willkomm, Ernst Adolf\",\"Weisse Sclaven oder die Leiden des Volkes\"],[\"Auerbach, Berthold\",\"Der Lehnhold\"],[\"Ruppius, Otto\",\"Der Pedlar\"],[\"Otto, Louise\",\"N\\u00fcrnberg. Zweiter Band\"],[\"Weerth, Georg\",\"Fragment eines Romans\"],[\"Auerbach, Berthold\",\"Der Lautenbacher\"],[\"Ruppius, Otto\",\"Das Verm\\u00e4chtnis des Pedlars\"],[\"Aston, Louise\",\"Lydia\"],[\"Auerbach, Berthold\",\"Barf\\u00fc\\u00dfele\"],[\"Gerst\\u00e4cker, Friedrich\",\"Die Regulatoren in Arkansas. Aus dem Waldleben Amerikas\"],[\"Schopenhauer, Adele\",\"Anna\"],[\"Hahn-Hahn, Ida Gr\\u00e4fin von\",\"Sibylle\"],[\"Lewald, Fanny\",\"Jenny\"],[\"Gutzkow, Karl\",\"Der Zauberer von Rom\"],[\"K\\u00fcrnberger, Ferdinand\",\"Der Amerika-M\\u00fcde\"],[\"Raabe, Wilhelm\",\"Alte Nester\"],[\"Fran\\u00e7ois, Louise von\",\"Die Geschichte meines Urgro\\u00dfvaters\"],[\"Keller, Gottfried\",\"Der gr\\u00fcne Heinrich2 [Zweite Fassung]\"],[\"Marlitt, Eugenie\",\"Das Heideprinze\\u00dfchen\"],[\"Spielhagen, Friedrich\",\"Problematische Naturen. Erste Abtheilung\"],[\"Marlitt, Eugenie\",\"Das Geheimnis der alten Mamsell\"],[\"M\\u00f6llhausen, Balduin\",\"Die Mandanenwaise\"],[\"Spielhagen, Friedrich\",\"Hammer und Ambo\\u00df\"],[\"Fran\\u00e7ois, Louise von\",\"Judith die Kluswirtin\"],[\"Raabe, Wilhelm\",\"Die Leute aus dem Walde, ihre Sterne, Wege und Schicksale\"],[\"Bahr, Hermann\",\"Die gute Schule\"],[\"Dohm, Hedwig\",\"Sibilla Dalmar\"],[\"Janitschek, Maria\",\"Die Amazonenschlacht\"],[\"Bleibtreu, Karl\",\"Gr\\u00f6\\u00dfenwahn\"],[\"Dohm, Hedwig\",\"Wie Frauen werden\"],[\"Christen, Ada\",\"Jungfer Mutter\"],[\"Spielhagen, Friedrich\",\"Zum Zeitvertreib\"],[\"Spitteler, Carl\",\"Conrad\"],[\"Kretzer, Max\",\"Meister Timpe\"],[\"Dohm, Hedwig\",\"Schicksale einer Seele\"],[\"Boy-Ed, Ida\",\"Fanny F\\u00f6rster\"],[\"Janitschek, Maria\",\"Ninive\"],[\"Essig, Hermann\",\"Der Taifun\"],[\"Keyserling, Eduard von\",\"Dumala\"],[\"Braun, Lily\",\"Lebenssucher\"],[\"Sack, Gustav\",\"Paralyse\"],[\"Meysenbug, Malwida Freiin von\",\"Himmlische und irdische Liebe\"],[\"Heyking, Elisabeth von\",\"Briefe, die ihn nicht erreichten\"],[\"Wille, Bruno\",\"Die Abendburg\"],[\"Sudermann, Hermann\",\"Jons und Erdme\"],[\"Ball, Hugo\",\"Flammetti\"]],\"hovertemplate\":\"canon-cat=low<br>year=%{x}<br>anteil_innerVerbs=%{y}<br>author-name=%{customdata[0]}<br>book-title=%{customdata[1]}<extra></extra>\",\"legendgroup\":\"low\",\"marker\":{\"color\":\"#636efa\",\"symbol\":\"circle\"},\"mode\":\"markers\",\"name\":\"low\",\"orientation\":\"v\",\"showlegend\":true,\"x\":[1845,1854,1857,1858,1846,1843,1859,1848,1856,1846,1845,1846,1843,1858,1855,1879,1868,1879,1871,1861,1867,1865,1869,1862,1863,1890,1896,1897,1888,1894,1892,1897,1898,1888,1899,1889,1896,1919,1907,1915,1913,1905,1903,1909,1917,1918],\"xaxis\":\"x\",\"y\":[0.1262247237856994,0.13753511664834495,0.1516707196253265,0.138612433290062,0.1454183266932271,0.14906505135633394,0.154851056748211,0.12266171640725404,0.15035475792988315,0.13916409382056127,0.13320810192747468,0.1439768161759863,0.15199774504967936,0.12964739683543974,0.11831480953738006,0.14746897990556715,0.13215968261839822,0.11979736342179495,0.14994356659142213,0.1564460476787955,0.13461858068805052,0.12513513513513513,0.1715649901603381,0.11319779462439697,0.12394822006472492,0.14097609846858453,0.1615746769508164,0.14745308310991956,0.12119723613976488,0.1585168018539977,0.12221664155365813,0.15808008347463154,0.10731628358692133,0.11423722758127902,0.15706997084548105,0.1537382240930046,0.15404219170324224,0.1357336861898461,0.1545258620689655,0.11641077271583186,0.14631043256997456,0.12811059907834102,0.14382767191383597,0.12296462661426165,0.15985008962033567,0.1060184507248499],\"yaxis\":\"y\",\"type\":\"scatter\"},{\"hovertemplate\":\"<b>OLS trendline</b><br>anteil_innerVerbs = -2.20209e-05 * year + 0.179982<br>R<sup>2</sup>=0.001083<br><br>canon-cat=low<br>year=%{x}<br>anteil_innerVerbs=%{y} <b>(trend)</b><extra></extra>\",\"legendgroup\":\"low\",\"marker\":{\"color\":\"#636efa\",\"symbol\":\"circle\"},\"mode\":\"lines\",\"name\":\"low\",\"showlegend\":false,\"x\":[1843,1843,1845,1845,1846,1846,1846,1848,1854,1855,1856,1857,1858,1858,1859,1861,1862,1863,1865,1867,1868,1869,1871,1879,1879,1888,1888,1889,1890,1892,1894,1896,1896,1897,1897,1898,1899,1903,1905,1907,1909,1913,1915,1917,1918,1919],\"xaxis\":\"x\",\"y\":[0.1393973311279072,0.1393973311279072,0.1393532893795602,0.1393532893795602,0.13933126850538669,0.13933126850538669,0.13933126850538669,0.13928722675703967,0.13915510151199864,0.13913308063782515,0.13911105976365162,0.1390890388894781,0.1390670180153046,0.1390670180153046,0.1390449971411311,0.1390009553927841,0.1389789345186106,0.13895691364443707,0.13891287189609006,0.13886883014774304,0.13884680927356954,0.13882478839939605,0.13878074665104903,0.138604579657661,0.138604579657661,0.13840639179009942,0.13840639179009942,0.13838437091592592,0.1383623500417524,0.1383183082934054,0.13827426654505837,0.13823022479671138,0.13823022479671138,0.13820820392253785,0.13820820392253785,0.13818618304836436,0.13816416217419086,0.13807607867749683,0.1380320369291498,0.1379879951808028,0.1379439534324558,0.13785586993576177,0.13781182818741475,0.13776778643906773,0.13774576556489423,0.13772374469072074],\"yaxis\":\"y\",\"type\":\"scatter\"},{\"customdata\":[[\"Kurz, Hermann\",\"Der Sonnenwirt\"],[\"Stifter, Adalbert\",\"Die Mappe meines Urgro\\u00dfvaters\"],[\"Freytag, Gustav\",\"Soll und Haben\"],[\"Aston, Louise\",\"Aus dem Leben einer Frau\"],[\"Tieck, Ludwig\",\"Vittoria Accorombona\"],[\"Arnim, Bettina von\",\"Die G\\u00fcnderode\"],[\"Arnim, Bettina von\",\"Clemens Brentanos Fr\\u00fchlingskranz\"],[\"Stifter, Adalbert\",\"Feldblumen\"],[\"Vischer, Friedrich Theodor\",\"Auch Einer 2\"],[\"Ebner-Eschenbach, Marie von\",\"Bozena\"],[\"Freytag, Gustav\",\"Die verlorene Handschrift\"],[\"Raabe, Wilhelm\",\"Der Sch\\u00fcdderump\"],[\"Meyer, Conrad Ferdinand\",\"J\\u00fcrg Jenatsch\"],[\"Vischer, Friedrich Theodor\",\"Auch Einer 1\"],[\"Fontane, Theodor\",\"Vor dem Sturm\"],[\"Raabe, Wilhelm\",\"Der Hungerpastor\"],[\"Marlitt, Eugenie\",\"Goldelse\"],[\"Dahn, Felix\",\"Kampf um Rom\"],[\"Stifter, Adalbert\",\"Witiko\"],[\"Fontane, Theodor\",\"Grete Minde\"],[\"Freytag, Gustav\",\"Die Ahnen\"],[\"Fontane, Theodor\",\"Unterm Birnbaum\"],[\"Spyri, Johanna\",\"Heidis Lehr- und Wanderjahre\"],[\"Fontane, Theodor\",\"Graf Pet\\u00f6fy\"],[\"May, Karl\",\"Am Jenseits\"],[\"Ebner-Eschenbach, Marie von\",\"Lotti, die Uhrmacherin\"],[\"Fontane, Theodor\",\"Irrungen, Wirrungen\"],[\"Polenz, Wilhelm von\",\"Der B\\u00fcttnerbauer\"],[\"Fontane, Theodor\",\"Der Stechlin\"],[\"Ganghofer, Ludwig\",\"Schlo\\u00df Hubertus\"],[\"Fontane, Theodor\",\"Schach von Wuthenow\"],[\"Fontane, Theodor\",\"C\\u00e9cile\"],[\"Raabe, Wilhelm\",\"Im alten Eisen\"],[\"Wassermann, Jakob\",\"Caspar Hauser\"],[\"Rilke, Rainer Maria\",\"Die Aufzeichnungen des Malte Laurids Brigge\"],[\"May, Karl\",\"Und Friede auf Erden!\"],[\"May, Karl\",\"Ardistan und Dschinnistan II\"],[\"Ganghofer, Ludwig\",\"Der Ochsenkrieg\"],[\"Fontane, Theodor\",\"Mathilde M\\u00f6hring\"],[\"Reventlow, Franziska Gr\\u00e4fin zu\",\"Von Paul zu Pedro\"],[\"Schnitzler, Arthur\",\"Casanovas Heimfahrt\"],[\"Christ, Lena\",\"Madam B\\u00e4urin\"],[\"Schnitzler, Arthur\",\"Der Weg ins Freie\"],[\"Meyrink, Gustav\",\"Der Golem\"],[\"Keyserling, Eduard von\",\"Wellen\"],[\"Reventlow, Franziska Gr\\u00e4fin zu\",\"Herrn Dames Aufzeichnungen\"],[\"Christ, Lena\",\"Mathias Bichler\"],[\"Ebner-Eschenbach, Marie von\",\"Agave\"]],\"hovertemplate\":\"canon-cat=high<br>year=%{x}<br>anteil_innerVerbs=%{y}<br>author-name=%{customdata[0]}<br>book-title=%{customdata[1]}<extra></extra>\",\"legendgroup\":\"high\",\"marker\":{\"color\":\"#EF553B\",\"symbol\":\"circle\"},\"mode\":\"markers\",\"name\":\"high\",\"orientation\":\"v\",\"showlegend\":true,\"x\":[1854,1841,1855,1847,1840,1840,1844,1841,1879,1876,1864,1869,1876,1879,1878,1863,1866,1876,1865,1879,1872,1885,1880,1884,1899,1880,1887,1895,1897,1895,1882,1887,1887,1907,1910,1904,1909,1914,1906,1912,1918,1920,1907,1913,1911,1913,1914,1903],\"xaxis\":\"x\",\"y\":[0.15217308931074988,0.13515182707153886,0.12635,0.1443972557987586,0.13994250858865595,0.17695454122896717,0.1699838622915546,0.1510966693744923,0.15107091861018562,0.10949059395476643,0.125,0.13619075482738444,0.0859148651660352,0.13441051136363635,0.1324905627249583,0.11645863570391872,0.14107038976148925,0.1234588264401468,0.09153005464480875,0.18240106124253813,0.1213030733209196,0.16135173726796764,0.15875865606565787,0.1569713758079409,0.1511443250817375,0.13074484944532488,0.17391950096539432,0.14454135338345864,0.16115683047260757,0.13085969852575782,0.1392570468545828,0.13837584286133098,0.14369345396487493,0.1270442156268928,0.14738341046635814,0.14016982895217975,0.1273759565539373,0.14975422810963926,0.2040203327171904,0.18694690265486727,0.11789297658862877,0.1419068736141907,0.14616225406849648,0.14933837429111532,0.15344678396308048,0.1682653876898481,0.11920260374288039,0.1250758035172832],\"yaxis\":\"y\",\"type\":\"scatter\"},{\"hovertemplate\":\"<b>OLS trendline</b><br>anteil_innerVerbs = 9.44861e-05 * year + -0.0354607<br>R<sup>2</sup>=0.009697<br><br>canon-cat=high<br>year=%{x}<br>anteil_innerVerbs=%{y} <b>(trend)</b><extra></extra>\",\"legendgroup\":\"high\",\"marker\":{\"color\":\"#EF553B\",\"symbol\":\"circle\"},\"mode\":\"lines\",\"name\":\"high\",\"showlegend\":false,\"x\":[1840,1840,1841,1841,1844,1847,1854,1855,1863,1864,1865,1866,1869,1872,1876,1876,1876,1878,1879,1879,1879,1880,1880,1882,1884,1885,1887,1887,1887,1895,1895,1897,1899,1903,1904,1906,1907,1907,1909,1910,1911,1912,1913,1913,1914,1914,1918,1920],\"xaxis\":\"x\",\"y\":[0.13839367416647802,0.13839367416647802,0.1384881602552501,0.1384881602552501,0.1387716185215664,0.13905507678788268,0.13971647940928733,0.13981096549805944,0.14056685420823617,0.14066134029700827,0.14075582638578035,0.14085031247455246,0.14113377074086875,0.14141722900718504,0.1417951733622734,0.1417951733622734,0.1417951733622734,0.14198414553981759,0.1420786316285897,0.1420786316285897,0.1420786316285897,0.14217311771736177,0.14217311771736177,0.14236208989490595,0.14255106207245016,0.14264554816122224,0.14283452033876642,0.14283452033876642,0.14283452033876642,0.14359040904894319,0.14359040904894319,0.14377938122648737,0.14396835340403155,0.14434629775911995,0.14444078384789202,0.14462975602543623,0.1447242421142083,0.1447242421142083,0.1449132142917525,0.1450077003805246,0.14510218646929668,0.14519667255806878,0.1452911586468409,0.1452911586468409,0.14538564473561297,0.14538564473561297,0.14576358909070136,0.14595256126824555],\"yaxis\":\"y\",\"type\":\"scatter\"},{\"customdata\":[[\"Stifter, Adalbert\",\"Die Narrenburg\"],[\"Stifter, Adalbert\",\"Zwei Schwestern\"],[\"Fran\\u00e7ois, Louise von\",\"Die letzte Reckenburgerin\"],[\"Raabe, Wilhelm\",\"Abu Telfan oder Die Heimkehr vom Mondgebirge\"],[\"Conradi, Hermann\",\"Adam Mensch\"],[\"Reventlow, Franziska Gr\\u00e4fin zu\",\"Ellen Olestjerne\"]],\"hovertemplate\":\"canon-cat=medium<br>year=%{x}<br>anteil_innerVerbs=%{y}<br>author-name=%{customdata[0]}<br>book-title=%{customdata[1]}<extra></extra>\",\"legendgroup\":\"medium\",\"marker\":{\"color\":\"#00cc96\",\"symbol\":\"circle\"},\"mode\":\"markers\",\"name\":\"medium\",\"orientation\":\"v\",\"showlegend\":true,\"x\":[1843,1846,1871,1867,1889,1903],\"xaxis\":\"x\",\"y\":[0.138366124893071,0.13487031700288185,0.12699107299142307,0.11722925972028996,0.14924181963288108,0.1779007923586237],\"yaxis\":\"y\",\"type\":\"scatter\"},{\"hovertemplate\":\"<b>OLS trendline</b><br>anteil_innerVerbs = 0.000596643 * year + -0.974856<br>R<sup>2</sup>=0.440357<br><br>canon-cat=medium<br>year=%{x}<br>anteil_innerVerbs=%{y} <b>(trend)</b><extra></extra>\",\"legendgroup\":\"medium\",\"marker\":{\"color\":\"#00cc96\",\"symbol\":\"circle\"},\"mode\":\"lines\",\"name\":\"medium\",\"showlegend\":false,\"x\":[1843,1846,1867,1871,1889,1903],\"xaxis\":\"x\",\"y\":[0.12475665223658727,0.1265465803082575,0.1390760768099497,0.14146264757217675,0.15220221600219852,0.16055521366999326],\"yaxis\":\"y\",\"type\":\"scatter\"}],                        {\"template\":{\"data\":{\"bar\":[{\"error_x\":{\"color\":\"#2a3f5f\"},\"error_y\":{\"color\":\"#2a3f5f\"},\"marker\":{\"line\":{\"color\":\"#E5ECF6\",\"width\":0.5},\"pattern\":{\"fillmode\":\"overlay\",\"size\":10,\"solidity\":0.2}},\"type\":\"bar\"}],\"barpolar\":[{\"marker\":{\"line\":{\"color\":\"#E5ECF6\",\"width\":0.5},\"pattern\":{\"fillmode\":\"overlay\",\"size\":10,\"solidity\":0.2}},\"type\":\"barpolar\"}],\"carpet\":[{\"aaxis\":{\"endlinecolor\":\"#2a3f5f\",\"gridcolor\":\"white\",\"linecolor\":\"white\",\"minorgridcolor\":\"white\",\"startlinecolor\":\"#2a3f5f\"},\"baxis\":{\"endlinecolor\":\"#2a3f5f\",\"gridcolor\":\"white\",\"linecolor\":\"white\",\"minorgridcolor\":\"white\",\"startlinecolor\":\"#2a3f5f\"},\"type\":\"carpet\"}],\"choropleth\":[{\"colorbar\":{\"outlinewidth\":0,\"ticks\":\"\"},\"type\":\"choropleth\"}],\"contour\":[{\"colorbar\":{\"outlinewidth\":0,\"ticks\":\"\"},\"colorscale\":[[0.0,\"#0d0887\"],[0.1111111111111111,\"#46039f\"],[0.2222222222222222,\"#7201a8\"],[0.3333333333333333,\"#9c179e\"],[0.4444444444444444,\"#bd3786\"],[0.5555555555555556,\"#d8576b\"],[0.6666666666666666,\"#ed7953\"],[0.7777777777777778,\"#fb9f3a\"],[0.8888888888888888,\"#fdca26\"],[1.0,\"#f0f921\"]],\"type\":\"contour\"}],\"contourcarpet\":[{\"colorbar\":{\"outlinewidth\":0,\"ticks\":\"\"},\"type\":\"contourcarpet\"}],\"heatmap\":[{\"colorbar\":{\"outlinewidth\":0,\"ticks\":\"\"},\"colorscale\":[[0.0,\"#0d0887\"],[0.1111111111111111,\"#46039f\"],[0.2222222222222222,\"#7201a8\"],[0.3333333333333333,\"#9c179e\"],[0.4444444444444444,\"#bd3786\"],[0.5555555555555556,\"#d8576b\"],[0.6666666666666666,\"#ed7953\"],[0.7777777777777778,\"#fb9f3a\"],[0.8888888888888888,\"#fdca26\"],[1.0,\"#f0f921\"]],\"type\":\"heatmap\"}],\"heatmapgl\":[{\"colorbar\":{\"outlinewidth\":0,\"ticks\":\"\"},\"colorscale\":[[0.0,\"#0d0887\"],[0.1111111111111111,\"#46039f\"],[0.2222222222222222,\"#7201a8\"],[0.3333333333333333,\"#9c179e\"],[0.4444444444444444,\"#bd3786\"],[0.5555555555555556,\"#d8576b\"],[0.6666666666666666,\"#ed7953\"],[0.7777777777777778,\"#fb9f3a\"],[0.8888888888888888,\"#fdca26\"],[1.0,\"#f0f921\"]],\"type\":\"heatmapgl\"}],\"histogram\":[{\"marker\":{\"pattern\":{\"fillmode\":\"overlay\",\"size\":10,\"solidity\":0.2}},\"type\":\"histogram\"}],\"histogram2d\":[{\"colorbar\":{\"outlinewidth\":0,\"ticks\":\"\"},\"colorscale\":[[0.0,\"#0d0887\"],[0.1111111111111111,\"#46039f\"],[0.2222222222222222,\"#7201a8\"],[0.3333333333333333,\"#9c179e\"],[0.4444444444444444,\"#bd3786\"],[0.5555555555555556,\"#d8576b\"],[0.6666666666666666,\"#ed7953\"],[0.7777777777777778,\"#fb9f3a\"],[0.8888888888888888,\"#fdca26\"],[1.0,\"#f0f921\"]],\"type\":\"histogram2d\"}],\"histogram2dcontour\":[{\"colorbar\":{\"outlinewidth\":0,\"ticks\":\"\"},\"colorscale\":[[0.0,\"#0d0887\"],[0.1111111111111111,\"#46039f\"],[0.2222222222222222,\"#7201a8\"],[0.3333333333333333,\"#9c179e\"],[0.4444444444444444,\"#bd3786\"],[0.5555555555555556,\"#d8576b\"],[0.6666666666666666,\"#ed7953\"],[0.7777777777777778,\"#fb9f3a\"],[0.8888888888888888,\"#fdca26\"],[1.0,\"#f0f921\"]],\"type\":\"histogram2dcontour\"}],\"mesh3d\":[{\"colorbar\":{\"outlinewidth\":0,\"ticks\":\"\"},\"type\":\"mesh3d\"}],\"parcoords\":[{\"line\":{\"colorbar\":{\"outlinewidth\":0,\"ticks\":\"\"}},\"type\":\"parcoords\"}],\"pie\":[{\"automargin\":true,\"type\":\"pie\"}],\"scatter\":[{\"marker\":{\"colorbar\":{\"outlinewidth\":0,\"ticks\":\"\"}},\"type\":\"scatter\"}],\"scatter3d\":[{\"line\":{\"colorbar\":{\"outlinewidth\":0,\"ticks\":\"\"}},\"marker\":{\"colorbar\":{\"outlinewidth\":0,\"ticks\":\"\"}},\"type\":\"scatter3d\"}],\"scattercarpet\":[{\"marker\":{\"colorbar\":{\"outlinewidth\":0,\"ticks\":\"\"}},\"type\":\"scattercarpet\"}],\"scattergeo\":[{\"marker\":{\"colorbar\":{\"outlinewidth\":0,\"ticks\":\"\"}},\"type\":\"scattergeo\"}],\"scattergl\":[{\"marker\":{\"colorbar\":{\"outlinewidth\":0,\"ticks\":\"\"}},\"type\":\"scattergl\"}],\"scattermapbox\":[{\"marker\":{\"colorbar\":{\"outlinewidth\":0,\"ticks\":\"\"}},\"type\":\"scattermapbox\"}],\"scatterpolar\":[{\"marker\":{\"colorbar\":{\"outlinewidth\":0,\"ticks\":\"\"}},\"type\":\"scatterpolar\"}],\"scatterpolargl\":[{\"marker\":{\"colorbar\":{\"outlinewidth\":0,\"ticks\":\"\"}},\"type\":\"scatterpolargl\"}],\"scatterternary\":[{\"marker\":{\"colorbar\":{\"outlinewidth\":0,\"ticks\":\"\"}},\"type\":\"scatterternary\"}],\"surface\":[{\"colorbar\":{\"outlinewidth\":0,\"ticks\":\"\"},\"colorscale\":[[0.0,\"#0d0887\"],[0.1111111111111111,\"#46039f\"],[0.2222222222222222,\"#7201a8\"],[0.3333333333333333,\"#9c179e\"],[0.4444444444444444,\"#bd3786\"],[0.5555555555555556,\"#d8576b\"],[0.6666666666666666,\"#ed7953\"],[0.7777777777777778,\"#fb9f3a\"],[0.8888888888888888,\"#fdca26\"],[1.0,\"#f0f921\"]],\"type\":\"surface\"}],\"table\":[{\"cells\":{\"fill\":{\"color\":\"#EBF0F8\"},\"line\":{\"color\":\"white\"}},\"header\":{\"fill\":{\"color\":\"#C8D4E3\"},\"line\":{\"color\":\"white\"}},\"type\":\"table\"}]},\"layout\":{\"annotationdefaults\":{\"arrowcolor\":\"#2a3f5f\",\"arrowhead\":0,\"arrowwidth\":1},\"autotypenumbers\":\"strict\",\"coloraxis\":{\"colorbar\":{\"outlinewidth\":0,\"ticks\":\"\"}},\"colorscale\":{\"diverging\":[[0,\"#8e0152\"],[0.1,\"#c51b7d\"],[0.2,\"#de77ae\"],[0.3,\"#f1b6da\"],[0.4,\"#fde0ef\"],[0.5,\"#f7f7f7\"],[0.6,\"#e6f5d0\"],[0.7,\"#b8e186\"],[0.8,\"#7fbc41\"],[0.9,\"#4d9221\"],[1,\"#276419\"]],\"sequential\":[[0.0,\"#0d0887\"],[0.1111111111111111,\"#46039f\"],[0.2222222222222222,\"#7201a8\"],[0.3333333333333333,\"#9c179e\"],[0.4444444444444444,\"#bd3786\"],[0.5555555555555556,\"#d8576b\"],[0.6666666666666666,\"#ed7953\"],[0.7777777777777778,\"#fb9f3a\"],[0.8888888888888888,\"#fdca26\"],[1.0,\"#f0f921\"]],\"sequentialminus\":[[0.0,\"#0d0887\"],[0.1111111111111111,\"#46039f\"],[0.2222222222222222,\"#7201a8\"],[0.3333333333333333,\"#9c179e\"],[0.4444444444444444,\"#bd3786\"],[0.5555555555555556,\"#d8576b\"],[0.6666666666666666,\"#ed7953\"],[0.7777777777777778,\"#fb9f3a\"],[0.8888888888888888,\"#fdca26\"],[1.0,\"#f0f921\"]]},\"colorway\":[\"#636efa\",\"#EF553B\",\"#00cc96\",\"#ab63fa\",\"#FFA15A\",\"#19d3f3\",\"#FF6692\",\"#B6E880\",\"#FF97FF\",\"#FECB52\"],\"font\":{\"color\":\"#2a3f5f\"},\"geo\":{\"bgcolor\":\"white\",\"lakecolor\":\"white\",\"landcolor\":\"#E5ECF6\",\"showlakes\":true,\"showland\":true,\"subunitcolor\":\"white\"},\"hoverlabel\":{\"align\":\"left\"},\"hovermode\":\"closest\",\"mapbox\":{\"style\":\"light\"},\"paper_bgcolor\":\"white\",\"plot_bgcolor\":\"#E5ECF6\",\"polar\":{\"angularaxis\":{\"gridcolor\":\"white\",\"linecolor\":\"white\",\"ticks\":\"\"},\"bgcolor\":\"#E5ECF6\",\"radialaxis\":{\"gridcolor\":\"white\",\"linecolor\":\"white\",\"ticks\":\"\"}},\"scene\":{\"xaxis\":{\"backgroundcolor\":\"#E5ECF6\",\"gridcolor\":\"white\",\"gridwidth\":2,\"linecolor\":\"white\",\"showbackground\":true,\"ticks\":\"\",\"zerolinecolor\":\"white\"},\"yaxis\":{\"backgroundcolor\":\"#E5ECF6\",\"gridcolor\":\"white\",\"gridwidth\":2,\"linecolor\":\"white\",\"showbackground\":true,\"ticks\":\"\",\"zerolinecolor\":\"white\"},\"zaxis\":{\"backgroundcolor\":\"#E5ECF6\",\"gridcolor\":\"white\",\"gridwidth\":2,\"linecolor\":\"white\",\"showbackground\":true,\"ticks\":\"\",\"zerolinecolor\":\"white\"}},\"shapedefaults\":{\"line\":{\"color\":\"#2a3f5f\"}},\"ternary\":{\"aaxis\":{\"gridcolor\":\"white\",\"linecolor\":\"white\",\"ticks\":\"\"},\"baxis\":{\"gridcolor\":\"white\",\"linecolor\":\"white\",\"ticks\":\"\"},\"bgcolor\":\"#E5ECF6\",\"caxis\":{\"gridcolor\":\"white\",\"linecolor\":\"white\",\"ticks\":\"\"}},\"title\":{\"x\":0.05},\"xaxis\":{\"automargin\":true,\"gridcolor\":\"white\",\"linecolor\":\"white\",\"ticks\":\"\",\"title\":{\"standoff\":15},\"zerolinecolor\":\"white\",\"zerolinewidth\":2},\"yaxis\":{\"automargin\":true,\"gridcolor\":\"white\",\"linecolor\":\"white\",\"ticks\":\"\",\"title\":{\"standoff\":15},\"zerolinecolor\":\"white\",\"zerolinewidth\":2}}},\"xaxis\":{\"anchor\":\"y\",\"domain\":[0.0,1.0],\"title\":{\"text\":\"year\"}},\"yaxis\":{\"anchor\":\"x\",\"domain\":[0.0,1.0],\"title\":{\"text\":\"anteil_innerVerbs\"}},\"legend\":{\"title\":{\"text\":\"canon-cat\"},\"tracegroupgap\":0},\"margin\":{\"t\":60}},                        {\"responsive\": true}                    ).then(function(){\n",
              "                            \n",
              "var gd = document.getElementById('1a076e9a-10e4-4e52-9a76-f32c7911d429');\n",
              "var x = new MutationObserver(function (mutations, observer) {{\n",
              "        var display = window.getComputedStyle(gd).display;\n",
              "        if (!display || display === 'none') {{\n",
              "            console.log([gd, 'removed!']);\n",
              "            Plotly.purge(gd);\n",
              "            observer.disconnect();\n",
              "        }}\n",
              "}});\n",
              "\n",
              "// Listen for the removal of the full notebook cells\n",
              "var notebookContainer = gd.closest('#notebook-container');\n",
              "if (notebookContainer) {{\n",
              "    x.observe(notebookContainer, {childList: true});\n",
              "}}\n",
              "\n",
              "// Listen for the clearing of the current output cell\n",
              "var outputEl = gd.closest('.output');\n",
              "if (outputEl) {{\n",
              "    x.observe(outputEl, {childList: true});\n",
              "}}\n",
              "\n",
              "                        })                };                            </script>        </div>\n",
              "</body>\n",
              "</html>"
            ]
          },
          "metadata": {}
        }
      ]
    },
    {
      "cell_type": "code",
      "source": [
        "fig = px.scatter(df, x=\"year\", y=\"anteil_innerVerbs\", trendline=\"ols\", color=\"gender-cat\", hover_data=[\"author-name\", \"book-title\"])\n",
        "fig.show()"
      ],
      "metadata": {
        "colab": {
          "base_uri": "https://localhost:8080/",
          "height": 542
        },
        "id": "TPI6wkgvr4xl",
        "outputId": "be1ceb03-73d0-409f-87ff-c477f8874411"
      },
      "execution_count": null,
      "outputs": [
        {
          "output_type": "display_data",
          "data": {
            "text/html": [
              "<html>\n",
              "<head><meta charset=\"utf-8\" /></head>\n",
              "<body>\n",
              "    <div>            <script src=\"https://cdnjs.cloudflare.com/ajax/libs/mathjax/2.7.5/MathJax.js?config=TeX-AMS-MML_SVG\"></script><script type=\"text/javascript\">if (window.MathJax) {MathJax.Hub.Config({SVG: {font: \"STIX-Web\"}});}</script>                <script type=\"text/javascript\">window.PlotlyConfig = {MathJaxConfig: 'local'};</script>\n",
              "        <script src=\"https://cdn.plot.ly/plotly-2.8.3.min.js\"></script>                <div id=\"3d0a07ab-1dc0-43f7-8d9c-97bc7b775f1b\" class=\"plotly-graph-div\" style=\"height:525px; width:100%;\"></div>            <script type=\"text/javascript\">                                    window.PLOTLYENV=window.PLOTLYENV || {};                                    if (document.getElementById(\"3d0a07ab-1dc0-43f7-8d9c-97bc7b775f1b\")) {                    Plotly.newPlot(                        \"3d0a07ab-1dc0-43f7-8d9c-97bc7b775f1b\",                        [{\"customdata\":[[\"Willkomm, Ernst Adolf\",\"Weisse Sclaven oder die Leiden des Volkes\"],[\"Auerbach, Berthold\",\"Der Lehnhold\"],[\"Ruppius, Otto\",\"Der Pedlar\"],[\"Kurz, Hermann\",\"Der Sonnenwirt\"],[\"Weerth, Georg\",\"Fragment eines Romans\"],[\"Stifter, Adalbert\",\"Die Mappe meines Urgro\\u00dfvaters\"],[\"Auerbach, Berthold\",\"Der Lautenbacher\"],[\"Ruppius, Otto\",\"Das Verm\\u00e4chtnis des Pedlars\"],[\"Freytag, Gustav\",\"Soll und Haben\"],[\"Auerbach, Berthold\",\"Barf\\u00fc\\u00dfele\"],[\"Tieck, Ludwig\",\"Vittoria Accorombona\"],[\"Gerst\\u00e4cker, Friedrich\",\"Die Regulatoren in Arkansas. Aus dem Waldleben Amerikas\"],[\"Stifter, Adalbert\",\"Die Narrenburg\"],[\"Stifter, Adalbert\",\"Zwei Schwestern\"],[\"Stifter, Adalbert\",\"Feldblumen\"],[\"Gutzkow, Karl\",\"Der Zauberer von Rom\"],[\"K\\u00fcrnberger, Ferdinand\",\"Der Amerika-M\\u00fcde\"],[\"Vischer, Friedrich Theodor\",\"Auch Einer 2\"],[\"Raabe, Wilhelm\",\"Alte Nester\"],[\"Freytag, Gustav\",\"Die verlorene Handschrift\"],[\"Raabe, Wilhelm\",\"Der Sch\\u00fcdderump\"],[\"Meyer, Conrad Ferdinand\",\"J\\u00fcrg Jenatsch\"],[\"Vischer, Friedrich Theodor\",\"Auch Einer 1\"],[\"Fontane, Theodor\",\"Vor dem Sturm\"],[\"Keller, Gottfried\",\"Der gr\\u00fcne Heinrich2 [Zweite Fassung]\"],[\"Raabe, Wilhelm\",\"Der Hungerpastor\"],[\"Spielhagen, Friedrich\",\"Problematische Naturen. Erste Abtheilung\"],[\"M\\u00f6llhausen, Balduin\",\"Die Mandanenwaise\"],[\"Spielhagen, Friedrich\",\"Hammer und Ambo\\u00df\"],[\"Dahn, Felix\",\"Kampf um Rom\"],[\"Stifter, Adalbert\",\"Witiko\"],[\"Fontane, Theodor\",\"Grete Minde\"],[\"Freytag, Gustav\",\"Die Ahnen\"],[\"Raabe, Wilhelm\",\"Die Leute aus dem Walde, ihre Sterne, Wege und Schicksale\"],[\"Raabe, Wilhelm\",\"Abu Telfan oder Die Heimkehr vom Mondgebirge\"],[\"Fontane, Theodor\",\"Unterm Birnbaum\"],[\"Fontane, Theodor\",\"Graf Pet\\u00f6fy\"],[\"May, Karl\",\"Am Jenseits\"],[\"Bahr, Hermann\",\"Die gute Schule\"],[\"Conradi, Hermann\",\"Adam Mensch\"],[\"Fontane, Theodor\",\"Irrungen, Wirrungen\"],[\"Bleibtreu, Karl\",\"Gr\\u00f6\\u00dfenwahn\"],[\"Polenz, Wilhelm von\",\"Der B\\u00fcttnerbauer\"],[\"Spielhagen, Friedrich\",\"Zum Zeitvertreib\"],[\"Fontane, Theodor\",\"Der Stechlin\"],[\"Ganghofer, Ludwig\",\"Schlo\\u00df Hubertus\"],[\"Spitteler, Carl\",\"Conrad\"],[\"Kretzer, Max\",\"Meister Timpe\"],[\"Fontane, Theodor\",\"Schach von Wuthenow\"],[\"Fontane, Theodor\",\"C\\u00e9cile\"],[\"Raabe, Wilhelm\",\"Im alten Eisen\"],[\"Wassermann, Jakob\",\"Caspar Hauser\"],[\"Essig, Hermann\",\"Der Taifun\"],[\"Rilke, Rainer Maria\",\"Die Aufzeichnungen des Malte Laurids Brigge\"],[\"Keyserling, Eduard von\",\"Dumala\"],[\"May, Karl\",\"Und Friede auf Erden!\"],[\"Sack, Gustav\",\"Paralyse\"],[\"May, Karl\",\"Ardistan und Dschinnistan II\"],[\"Ganghofer, Ludwig\",\"Der Ochsenkrieg\"],[\"Fontane, Theodor\",\"Mathilde M\\u00f6hring\"],[\"Wille, Bruno\",\"Die Abendburg\"],[\"Schnitzler, Arthur\",\"Casanovas Heimfahrt\"],[\"Sudermann, Hermann\",\"Jons und Erdme\"],[\"Schnitzler, Arthur\",\"Der Weg ins Freie\"],[\"Ball, Hugo\",\"Flammetti\"],[\"Meyrink, Gustav\",\"Der Golem\"],[\"Keyserling, Eduard von\",\"Wellen\"]],\"hovertemplate\":\"gender-cat=m<br>year=%{x}<br>anteil_innerVerbs=%{y}<br>author-name=%{customdata[0]}<br>book-title=%{customdata[1]}<extra></extra>\",\"legendgroup\":\"m\",\"marker\":{\"color\":\"#636efa\",\"symbol\":\"circle\"},\"mode\":\"markers\",\"name\":\"m\",\"orientation\":\"v\",\"showlegend\":true,\"x\":[1845,1854,1857,1854,1846,1841,1843,1859,1855,1856,1840,1846,1843,1846,1841,1858,1855,1879,1879,1864,1869,1876,1879,1878,1879,1863,1861,1865,1869,1876,1865,1879,1872,1863,1867,1885,1884,1899,1890,1889,1887,1888,1895,1897,1897,1895,1898,1888,1882,1887,1887,1907,1919,1910,1907,1904,1913,1909,1914,1906,1909,1918,1917,1907,1918,1913,1911],\"xaxis\":\"x\",\"y\":[0.1262247237856994,0.13753511664834495,0.1516707196253265,0.15217308931074988,0.1454183266932271,0.13515182707153886,0.14906505135633394,0.154851056748211,0.12635,0.15035475792988315,0.13994250858865595,0.13916409382056127,0.138366124893071,0.13487031700288185,0.1510966693744923,0.12964739683543974,0.11831480953738006,0.15107091861018562,0.14746897990556715,0.125,0.13619075482738444,0.0859148651660352,0.13441051136363635,0.1324905627249583,0.11979736342179495,0.11645863570391872,0.1564460476787955,0.12513513513513513,0.1715649901603381,0.1234588264401468,0.09153005464480875,0.18240106124253813,0.1213030733209196,0.12394822006472492,0.11722925972028996,0.16135173726796764,0.1569713758079409,0.1511443250817375,0.14097609846858453,0.14924181963288108,0.17391950096539432,0.12119723613976488,0.14454135338345864,0.15808008347463154,0.16115683047260757,0.13085969852575782,0.10731628358692133,0.11423722758127902,0.1392570468545828,0.13837584286133098,0.14369345396487493,0.1270442156268928,0.1357336861898461,0.14738341046635814,0.1545258620689655,0.14016982895217975,0.14631043256997456,0.1273759565539373,0.14975422810963926,0.2040203327171904,0.12296462661426165,0.11789297658862877,0.15985008962033567,0.14616225406849648,0.1060184507248499,0.14933837429111532,0.15344678396308048],\"yaxis\":\"y\",\"type\":\"scatter\"},{\"hovertemplate\":\"<b>OLS trendline</b><br>anteil_innerVerbs = 8.83447e-05 * year + -0.0269383<br>R<sup>2</sup>=0.011245<br><br>gender-cat=m<br>year=%{x}<br>anteil_innerVerbs=%{y} <b>(trend)</b><extra></extra>\",\"legendgroup\":\"m\",\"marker\":{\"color\":\"#636efa\",\"symbol\":\"circle\"},\"mode\":\"lines\",\"name\":\"m\",\"showlegend\":false,\"x\":[1840,1841,1841,1843,1843,1845,1846,1846,1846,1854,1854,1855,1855,1856,1857,1858,1859,1861,1863,1863,1864,1865,1865,1867,1869,1869,1872,1876,1876,1878,1879,1879,1879,1879,1879,1882,1884,1885,1887,1887,1887,1888,1888,1889,1890,1895,1895,1897,1897,1898,1899,1904,1906,1907,1907,1907,1909,1909,1910,1911,1913,1913,1914,1917,1918,1918,1919],\"xaxis\":\"x\",\"y\":[0.13561597213755225,0.1357043168753264,0.1357043168753264,0.1358810063508747,0.1358810063508747,0.136057695826423,0.13614604056419713,0.13614604056419713,0.13614604056419713,0.1368527984663903,0.1368527984663903,0.13694114320416448,0.13694114320416448,0.13702948794193862,0.13711783267971275,0.13720617741748692,0.13729452215526106,0.13747121163080936,0.13764790110635766,0.13764790110635766,0.1377362458441318,0.13782459058190596,0.13782459058190596,0.13800128005745424,0.13817796953300254,0.13817796953300254,0.13844300374632498,0.1387963826974216,0.1387963826974216,0.1389730721729699,0.13906141691074403,0.13906141691074403,0.13906141691074403,0.13906141691074403,0.13906141691074403,0.13932645112406647,0.13950314059961477,0.1395914853373889,0.1397681748129372,0.1397681748129372,0.1397681748129372,0.13985651955071138,0.13985651955071138,0.13994486428848552,0.14003320902625965,0.1404749327151304,0.1404749327151304,0.1406516221906787,0.1406516221906787,0.14073996692845284,0.140828311666227,0.14127003535509775,0.14144672483064605,0.14153506956842019,0.14153506956842019,0.14153506956842019,0.1417117590439685,0.1417117590439685,0.14180010378174263,0.14188844851951676,0.14206513799506507,0.14206513799506507,0.14215348273283923,0.14241851694616167,0.1425068616839358,0.1425068616839358,0.14259520642170997],\"yaxis\":\"y\",\"type\":\"scatter\"},{\"customdata\":[[\"Otto, Louise\",\"N\\u00fcrnberg. Zweiter Band\"],[\"Aston, Louise\",\"Lydia\"],[\"Aston, Louise\",\"Aus dem Leben einer Frau\"],[\"Arnim, Bettina von\",\"Die G\\u00fcnderode\"],[\"Schopenhauer, Adele\",\"Anna\"],[\"Hahn-Hahn, Ida Gr\\u00e4fin von\",\"Sibylle\"],[\"Lewald, Fanny\",\"Jenny\"],[\"Arnim, Bettina von\",\"Clemens Brentanos Fr\\u00fchlingskranz\"],[\"Ebner-Eschenbach, Marie von\",\"Bozena\"],[\"Fran\\u00e7ois, Louise von\",\"Die letzte Reckenburgerin\"],[\"Fran\\u00e7ois, Louise von\",\"Die Geschichte meines Urgro\\u00dfvaters\"],[\"Marlitt, Eugenie\",\"Das Heideprinze\\u00dfchen\"],[\"Marlitt, Eugenie\",\"Goldelse\"],[\"Marlitt, Eugenie\",\"Das Geheimnis der alten Mamsell\"],[\"Fran\\u00e7ois, Louise von\",\"Judith die Kluswirtin\"],[\"Spyri, Johanna\",\"Heidis Lehr- und Wanderjahre\"],[\"Dohm, Hedwig\",\"Sibilla Dalmar\"],[\"Ebner-Eschenbach, Marie von\",\"Lotti, die Uhrmacherin\"],[\"Janitschek, Maria\",\"Die Amazonenschlacht\"],[\"Dohm, Hedwig\",\"Wie Frauen werden\"],[\"Christen, Ada\",\"Jungfer Mutter\"],[\"Dohm, Hedwig\",\"Schicksale einer Seele\"],[\"Boy-Ed, Ida\",\"Fanny F\\u00f6rster\"],[\"Janitschek, Maria\",\"Ninive\"],[\"Reventlow, Franziska Gr\\u00e4fin zu\",\"Ellen Olestjerne\"],[\"Braun, Lily\",\"Lebenssucher\"],[\"Meysenbug, Malwida Freiin von\",\"Himmlische und irdische Liebe\"],[\"Heyking, Elisabeth von\",\"Briefe, die ihn nicht erreichten\"],[\"Reventlow, Franziska Gr\\u00e4fin zu\",\"Von Paul zu Pedro\"],[\"Christ, Lena\",\"Madam B\\u00e4urin\"],[\"Reventlow, Franziska Gr\\u00e4fin zu\",\"Herrn Dames Aufzeichnungen\"],[\"Christ, Lena\",\"Mathias Bichler\"],[\"Ebner-Eschenbach, Marie von\",\"Agave\"]],\"hovertemplate\":\"gender-cat=f<br>year=%{x}<br>anteil_innerVerbs=%{y}<br>author-name=%{customdata[0]}<br>book-title=%{customdata[1]}<extra></extra>\",\"legendgroup\":\"f\",\"marker\":{\"color\":\"#EF553B\",\"symbol\":\"circle\"},\"mode\":\"markers\",\"name\":\"f\",\"orientation\":\"v\",\"showlegend\":true,\"x\":[1858,1848,1847,1840,1845,1846,1843,1844,1876,1871,1868,1871,1866,1867,1862,1880,1896,1880,1897,1894,1892,1899,1889,1896,1903,1915,1905,1903,1912,1920,1913,1914,1903],\"xaxis\":\"x\",\"y\":[0.138612433290062,0.12266171640725404,0.1443972557987586,0.17695454122896717,0.13320810192747468,0.1439768161759863,0.15199774504967936,0.1699838622915546,0.10949059395476643,0.12699107299142307,0.13215968261839822,0.14994356659142213,0.14107038976148925,0.13461858068805052,0.11319779462439697,0.15875865606565787,0.1615746769508164,0.13074484944532488,0.14745308310991956,0.1585168018539977,0.12221664155365813,0.15706997084548105,0.1537382240930046,0.15404219170324224,0.1779007923586237,0.11641077271583186,0.12811059907834102,0.14382767191383597,0.18694690265486727,0.1419068736141907,0.1682653876898481,0.11920260374288039,0.1250758035172832],\"yaxis\":\"y\",\"type\":\"scatter\"},{\"hovertemplate\":\"<b>OLS trendline</b><br>anteil_innerVerbs = 3.60831e-05 * year + 0.0758061<br>R<sup>2</sup>=0.002103<br><br>gender-cat=f<br>year=%{x}<br>anteil_innerVerbs=%{y} <b>(trend)</b><extra></extra>\",\"legendgroup\":\"f\",\"marker\":{\"color\":\"#EF553B\",\"symbol\":\"circle\"},\"mode\":\"lines\",\"name\":\"f\",\"showlegend\":false,\"x\":[1840,1843,1844,1845,1846,1847,1848,1858,1862,1866,1867,1868,1871,1871,1876,1880,1880,1889,1892,1894,1896,1896,1897,1899,1903,1903,1903,1905,1912,1913,1914,1915,1920],\"xaxis\":\"x\",\"y\":[0.1421990025135874,0.142307251746703,0.1423433348244082,0.14237941790211336,0.14241550097981856,0.14245158405752376,0.14248766713522892,0.14284849791228083,0.1429928302231016,0.14313716253392234,0.14317324561162753,0.14320932868933273,0.1433175779224483,0.1433175779224483,0.14349799331097424,0.14364232562179502,0.14364232562179502,0.14396707332114173,0.14407532255425728,0.14414748870966768,0.14421965486507804,0.14421965486507804,0.14425573794278324,0.14432790409819363,0.14447223640901438,0.14447223640901438,0.14447223640901438,0.14454440256442475,0.1447969841083611,0.14483306718606626,0.14486915026377145,0.14490523334147665,0.1450856487300026],\"yaxis\":\"y\",\"type\":\"scatter\"}],                        {\"template\":{\"data\":{\"bar\":[{\"error_x\":{\"color\":\"#2a3f5f\"},\"error_y\":{\"color\":\"#2a3f5f\"},\"marker\":{\"line\":{\"color\":\"#E5ECF6\",\"width\":0.5},\"pattern\":{\"fillmode\":\"overlay\",\"size\":10,\"solidity\":0.2}},\"type\":\"bar\"}],\"barpolar\":[{\"marker\":{\"line\":{\"color\":\"#E5ECF6\",\"width\":0.5},\"pattern\":{\"fillmode\":\"overlay\",\"size\":10,\"solidity\":0.2}},\"type\":\"barpolar\"}],\"carpet\":[{\"aaxis\":{\"endlinecolor\":\"#2a3f5f\",\"gridcolor\":\"white\",\"linecolor\":\"white\",\"minorgridcolor\":\"white\",\"startlinecolor\":\"#2a3f5f\"},\"baxis\":{\"endlinecolor\":\"#2a3f5f\",\"gridcolor\":\"white\",\"linecolor\":\"white\",\"minorgridcolor\":\"white\",\"startlinecolor\":\"#2a3f5f\"},\"type\":\"carpet\"}],\"choropleth\":[{\"colorbar\":{\"outlinewidth\":0,\"ticks\":\"\"},\"type\":\"choropleth\"}],\"contour\":[{\"colorbar\":{\"outlinewidth\":0,\"ticks\":\"\"},\"colorscale\":[[0.0,\"#0d0887\"],[0.1111111111111111,\"#46039f\"],[0.2222222222222222,\"#7201a8\"],[0.3333333333333333,\"#9c179e\"],[0.4444444444444444,\"#bd3786\"],[0.5555555555555556,\"#d8576b\"],[0.6666666666666666,\"#ed7953\"],[0.7777777777777778,\"#fb9f3a\"],[0.8888888888888888,\"#fdca26\"],[1.0,\"#f0f921\"]],\"type\":\"contour\"}],\"contourcarpet\":[{\"colorbar\":{\"outlinewidth\":0,\"ticks\":\"\"},\"type\":\"contourcarpet\"}],\"heatmap\":[{\"colorbar\":{\"outlinewidth\":0,\"ticks\":\"\"},\"colorscale\":[[0.0,\"#0d0887\"],[0.1111111111111111,\"#46039f\"],[0.2222222222222222,\"#7201a8\"],[0.3333333333333333,\"#9c179e\"],[0.4444444444444444,\"#bd3786\"],[0.5555555555555556,\"#d8576b\"],[0.6666666666666666,\"#ed7953\"],[0.7777777777777778,\"#fb9f3a\"],[0.8888888888888888,\"#fdca26\"],[1.0,\"#f0f921\"]],\"type\":\"heatmap\"}],\"heatmapgl\":[{\"colorbar\":{\"outlinewidth\":0,\"ticks\":\"\"},\"colorscale\":[[0.0,\"#0d0887\"],[0.1111111111111111,\"#46039f\"],[0.2222222222222222,\"#7201a8\"],[0.3333333333333333,\"#9c179e\"],[0.4444444444444444,\"#bd3786\"],[0.5555555555555556,\"#d8576b\"],[0.6666666666666666,\"#ed7953\"],[0.7777777777777778,\"#fb9f3a\"],[0.8888888888888888,\"#fdca26\"],[1.0,\"#f0f921\"]],\"type\":\"heatmapgl\"}],\"histogram\":[{\"marker\":{\"pattern\":{\"fillmode\":\"overlay\",\"size\":10,\"solidity\":0.2}},\"type\":\"histogram\"}],\"histogram2d\":[{\"colorbar\":{\"outlinewidth\":0,\"ticks\":\"\"},\"colorscale\":[[0.0,\"#0d0887\"],[0.1111111111111111,\"#46039f\"],[0.2222222222222222,\"#7201a8\"],[0.3333333333333333,\"#9c179e\"],[0.4444444444444444,\"#bd3786\"],[0.5555555555555556,\"#d8576b\"],[0.6666666666666666,\"#ed7953\"],[0.7777777777777778,\"#fb9f3a\"],[0.8888888888888888,\"#fdca26\"],[1.0,\"#f0f921\"]],\"type\":\"histogram2d\"}],\"histogram2dcontour\":[{\"colorbar\":{\"outlinewidth\":0,\"ticks\":\"\"},\"colorscale\":[[0.0,\"#0d0887\"],[0.1111111111111111,\"#46039f\"],[0.2222222222222222,\"#7201a8\"],[0.3333333333333333,\"#9c179e\"],[0.4444444444444444,\"#bd3786\"],[0.5555555555555556,\"#d8576b\"],[0.6666666666666666,\"#ed7953\"],[0.7777777777777778,\"#fb9f3a\"],[0.8888888888888888,\"#fdca26\"],[1.0,\"#f0f921\"]],\"type\":\"histogram2dcontour\"}],\"mesh3d\":[{\"colorbar\":{\"outlinewidth\":0,\"ticks\":\"\"},\"type\":\"mesh3d\"}],\"parcoords\":[{\"line\":{\"colorbar\":{\"outlinewidth\":0,\"ticks\":\"\"}},\"type\":\"parcoords\"}],\"pie\":[{\"automargin\":true,\"type\":\"pie\"}],\"scatter\":[{\"marker\":{\"colorbar\":{\"outlinewidth\":0,\"ticks\":\"\"}},\"type\":\"scatter\"}],\"scatter3d\":[{\"line\":{\"colorbar\":{\"outlinewidth\":0,\"ticks\":\"\"}},\"marker\":{\"colorbar\":{\"outlinewidth\":0,\"ticks\":\"\"}},\"type\":\"scatter3d\"}],\"scattercarpet\":[{\"marker\":{\"colorbar\":{\"outlinewidth\":0,\"ticks\":\"\"}},\"type\":\"scattercarpet\"}],\"scattergeo\":[{\"marker\":{\"colorbar\":{\"outlinewidth\":0,\"ticks\":\"\"}},\"type\":\"scattergeo\"}],\"scattergl\":[{\"marker\":{\"colorbar\":{\"outlinewidth\":0,\"ticks\":\"\"}},\"type\":\"scattergl\"}],\"scattermapbox\":[{\"marker\":{\"colorbar\":{\"outlinewidth\":0,\"ticks\":\"\"}},\"type\":\"scattermapbox\"}],\"scatterpolar\":[{\"marker\":{\"colorbar\":{\"outlinewidth\":0,\"ticks\":\"\"}},\"type\":\"scatterpolar\"}],\"scatterpolargl\":[{\"marker\":{\"colorbar\":{\"outlinewidth\":0,\"ticks\":\"\"}},\"type\":\"scatterpolargl\"}],\"scatterternary\":[{\"marker\":{\"colorbar\":{\"outlinewidth\":0,\"ticks\":\"\"}},\"type\":\"scatterternary\"}],\"surface\":[{\"colorbar\":{\"outlinewidth\":0,\"ticks\":\"\"},\"colorscale\":[[0.0,\"#0d0887\"],[0.1111111111111111,\"#46039f\"],[0.2222222222222222,\"#7201a8\"],[0.3333333333333333,\"#9c179e\"],[0.4444444444444444,\"#bd3786\"],[0.5555555555555556,\"#d8576b\"],[0.6666666666666666,\"#ed7953\"],[0.7777777777777778,\"#fb9f3a\"],[0.8888888888888888,\"#fdca26\"],[1.0,\"#f0f921\"]],\"type\":\"surface\"}],\"table\":[{\"cells\":{\"fill\":{\"color\":\"#EBF0F8\"},\"line\":{\"color\":\"white\"}},\"header\":{\"fill\":{\"color\":\"#C8D4E3\"},\"line\":{\"color\":\"white\"}},\"type\":\"table\"}]},\"layout\":{\"annotationdefaults\":{\"arrowcolor\":\"#2a3f5f\",\"arrowhead\":0,\"arrowwidth\":1},\"autotypenumbers\":\"strict\",\"coloraxis\":{\"colorbar\":{\"outlinewidth\":0,\"ticks\":\"\"}},\"colorscale\":{\"diverging\":[[0,\"#8e0152\"],[0.1,\"#c51b7d\"],[0.2,\"#de77ae\"],[0.3,\"#f1b6da\"],[0.4,\"#fde0ef\"],[0.5,\"#f7f7f7\"],[0.6,\"#e6f5d0\"],[0.7,\"#b8e186\"],[0.8,\"#7fbc41\"],[0.9,\"#4d9221\"],[1,\"#276419\"]],\"sequential\":[[0.0,\"#0d0887\"],[0.1111111111111111,\"#46039f\"],[0.2222222222222222,\"#7201a8\"],[0.3333333333333333,\"#9c179e\"],[0.4444444444444444,\"#bd3786\"],[0.5555555555555556,\"#d8576b\"],[0.6666666666666666,\"#ed7953\"],[0.7777777777777778,\"#fb9f3a\"],[0.8888888888888888,\"#fdca26\"],[1.0,\"#f0f921\"]],\"sequentialminus\":[[0.0,\"#0d0887\"],[0.1111111111111111,\"#46039f\"],[0.2222222222222222,\"#7201a8\"],[0.3333333333333333,\"#9c179e\"],[0.4444444444444444,\"#bd3786\"],[0.5555555555555556,\"#d8576b\"],[0.6666666666666666,\"#ed7953\"],[0.7777777777777778,\"#fb9f3a\"],[0.8888888888888888,\"#fdca26\"],[1.0,\"#f0f921\"]]},\"colorway\":[\"#636efa\",\"#EF553B\",\"#00cc96\",\"#ab63fa\",\"#FFA15A\",\"#19d3f3\",\"#FF6692\",\"#B6E880\",\"#FF97FF\",\"#FECB52\"],\"font\":{\"color\":\"#2a3f5f\"},\"geo\":{\"bgcolor\":\"white\",\"lakecolor\":\"white\",\"landcolor\":\"#E5ECF6\",\"showlakes\":true,\"showland\":true,\"subunitcolor\":\"white\"},\"hoverlabel\":{\"align\":\"left\"},\"hovermode\":\"closest\",\"mapbox\":{\"style\":\"light\"},\"paper_bgcolor\":\"white\",\"plot_bgcolor\":\"#E5ECF6\",\"polar\":{\"angularaxis\":{\"gridcolor\":\"white\",\"linecolor\":\"white\",\"ticks\":\"\"},\"bgcolor\":\"#E5ECF6\",\"radialaxis\":{\"gridcolor\":\"white\",\"linecolor\":\"white\",\"ticks\":\"\"}},\"scene\":{\"xaxis\":{\"backgroundcolor\":\"#E5ECF6\",\"gridcolor\":\"white\",\"gridwidth\":2,\"linecolor\":\"white\",\"showbackground\":true,\"ticks\":\"\",\"zerolinecolor\":\"white\"},\"yaxis\":{\"backgroundcolor\":\"#E5ECF6\",\"gridcolor\":\"white\",\"gridwidth\":2,\"linecolor\":\"white\",\"showbackground\":true,\"ticks\":\"\",\"zerolinecolor\":\"white\"},\"zaxis\":{\"backgroundcolor\":\"#E5ECF6\",\"gridcolor\":\"white\",\"gridwidth\":2,\"linecolor\":\"white\",\"showbackground\":true,\"ticks\":\"\",\"zerolinecolor\":\"white\"}},\"shapedefaults\":{\"line\":{\"color\":\"#2a3f5f\"}},\"ternary\":{\"aaxis\":{\"gridcolor\":\"white\",\"linecolor\":\"white\",\"ticks\":\"\"},\"baxis\":{\"gridcolor\":\"white\",\"linecolor\":\"white\",\"ticks\":\"\"},\"bgcolor\":\"#E5ECF6\",\"caxis\":{\"gridcolor\":\"white\",\"linecolor\":\"white\",\"ticks\":\"\"}},\"title\":{\"x\":0.05},\"xaxis\":{\"automargin\":true,\"gridcolor\":\"white\",\"linecolor\":\"white\",\"ticks\":\"\",\"title\":{\"standoff\":15},\"zerolinecolor\":\"white\",\"zerolinewidth\":2},\"yaxis\":{\"automargin\":true,\"gridcolor\":\"white\",\"linecolor\":\"white\",\"ticks\":\"\",\"title\":{\"standoff\":15},\"zerolinecolor\":\"white\",\"zerolinewidth\":2}}},\"xaxis\":{\"anchor\":\"y\",\"domain\":[0.0,1.0],\"title\":{\"text\":\"year\"}},\"yaxis\":{\"anchor\":\"x\",\"domain\":[0.0,1.0],\"title\":{\"text\":\"anteil_innerVerbs\"}},\"legend\":{\"title\":{\"text\":\"gender-cat\"},\"tracegroupgap\":0},\"margin\":{\"t\":60}},                        {\"responsive\": true}                    ).then(function(){\n",
              "                            \n",
              "var gd = document.getElementById('3d0a07ab-1dc0-43f7-8d9c-97bc7b775f1b');\n",
              "var x = new MutationObserver(function (mutations, observer) {{\n",
              "        var display = window.getComputedStyle(gd).display;\n",
              "        if (!display || display === 'none') {{\n",
              "            console.log([gd, 'removed!']);\n",
              "            Plotly.purge(gd);\n",
              "            observer.disconnect();\n",
              "        }}\n",
              "}});\n",
              "\n",
              "// Listen for the removal of the full notebook cells\n",
              "var notebookContainer = gd.closest('#notebook-container');\n",
              "if (notebookContainer) {{\n",
              "    x.observe(notebookContainer, {childList: true});\n",
              "}}\n",
              "\n",
              "// Listen for the clearing of the current output cell\n",
              "var outputEl = gd.closest('.output');\n",
              "if (outputEl) {{\n",
              "    x.observe(outputEl, {childList: true});\n",
              "}}\n",
              "\n",
              "                        })                };                            </script>        </div>\n",
              "</body>\n",
              "</html>"
            ]
          },
          "metadata": {}
        }
      ]
    },
    {
      "cell_type": "code",
      "source": [
        "# Wie viele Texte fallen in die Kategorie medium?\n",
        "df_medium = df[df[\"canon-cat\"] == \"medium\"]\n",
        "df_medium"
      ],
      "metadata": {
        "id": "LGNfQ0tXilAb"
      },
      "execution_count": null,
      "outputs": []
    }
  ]
}