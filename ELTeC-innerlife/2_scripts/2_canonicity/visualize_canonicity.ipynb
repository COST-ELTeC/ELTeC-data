{
 "cells": [
  {
   "cell_type": "code",
   "execution_count": 1,
   "id": "cfffbd6e",
   "metadata": {},
   "outputs": [],
   "source": [
    "# Imports\n",
    "import pandas as pd\n",
    "import plotly.express as px\n",
    "import seaborn as sns\n",
    "from matplotlib import pyplot as plt"
   ]
  },
  {
   "cell_type": "code",
   "execution_count": 2,
   "id": "a71122d0",
   "metadata": {},
   "outputs": [
    {
     "name": "stdout",
     "output_type": "stream",
     "text": [
      "fatal: destination path 'ELTeC-deu' already exists and is not an empty directory.\n",
      "fatal: destination path 'ELTeC-eng' already exists and is not an empty directory.\n",
      "fatal: destination path 'ELTeC-spa' already exists and is not an empty directory.\n",
      "fatal: destination path 'ELTeC-fra' already exists and is not an empty directory.\n",
      "fatal: destination path 'ELTeC-por' already exists and is not an empty directory.\n",
      "fatal: destination path 'ELTeC-srp' already exists and is not an empty directory.\n",
      "fatal: destination path 'ELTeC-hun' already exists and is not an empty directory.\n",
      "fatal: destination path 'ELTeC-nor' already exists and is not an empty directory.\n",
      "fatal: destination path 'ELTeC-rom' already exists and is not an empty directory.\n",
      "fatal: destination path 'ELTeC-slv' already exists and is not an empty directory.\n"
     ]
    }
   ],
   "source": [
    "# Clone reps\n",
    "! git clone https://github.com/COST-ELTeC/ELTeC-deu.git\n",
    "! git clone https://github.com/COST-ELTeC/ELTeC-eng.git\n",
    "! git clone https://github.com/COST-ELTeC/ELTeC-spa.git \n",
    "! git clone https://github.com/COST-ELTeC/ELTeC-fra.git \n",
    "! git clone https://github.com/COST-ELTeC/ELTeC-por.git\n",
    "! git clone https://github.com/COST-ELTeC/ELTeC-srp.git \n",
    "! git clone https://github.com/COST-ELTeC/ELTeC-hun.git\n",
    "! git clone https://github.com/COST-ELTeC/ELTeC-nor.git\n",
    "! git clone https://github.com/COST-ELTeC/ELTeC-rom.git\n",
    "! git clone https://github.com/COST-ELTeC/ELTeC-slv.git"
   ]
  },
  {
   "cell_type": "code",
   "execution_count": 38,
   "id": "fc25fe26",
   "metadata": {},
   "outputs": [],
   "source": [
    "def get_metadata(language: str):\n",
    "    path = \"ELTeC-\" + language + \"/ELTeC-\" + language + \"_metadata.tsv\"\n",
    "    df = pd.read_csv(path, sep=\"\\t\", encoding=\"utf-8\")\n",
    "    return df\n",
    "\n",
    "def get_data(language: str):\n",
    "    path = \"ELTeC-data/\" + language + \"/manualCounts.dat\"\n",
    "    df = pd.read_csv(path, sep=\" \", encoding=\"utf-8\")\n",
    "    df[\"anteil_innerVerbs\"] = df[\"innerVerbs\"]/df[\"verbs\"]\n",
    "    \n",
    "    return df\n",
    "\n",
    "def concatenate_dfs(metadata, data):\n",
    "    df = pd.concat([metadata, data], axis=1, join=\"inner\")\n",
    "    return df\n",
    "\n",
    "\"\"\"def plot_scatterplot(df, language):\n",
    "    sns.lmplot(x=\"year\", \n",
    "           y=\"anteil_innerVerbs\", \n",
    "           hue=\"reprint-count\",\n",
    "           data=df,\n",
    "           height=10)\n",
    "\n",
    "    savename = \"plots/\" + language + \".png\"\n",
    "    plt.savefig(savename,format='png',dpi=150)\n",
    "    #plt.show()\"\"\"\n",
    "\n",
    "def plot_scatterplot(df, language):\n",
    "    color_discrete_map = {'low': 'green', 'unspecified': 'grey', 'high': 'red'}\n",
    "    fig = px.scatter(\n",
    "            df,\n",
    "            x=\"year\", \n",
    "           y=\"anteil_innerVerbs\", \n",
    "           color=\"reprint-count\",\n",
    "        trendline=\"ols\",\n",
    "        color_discrete_map=color_discrete_map\n",
    "           )\n",
    "           #height=10)\n",
    "\n",
    "    \n",
    "    savename = \"plots/\" + language + \".png\"\n",
    "    #plt.savefig(savename,format='png',dpi=150)\n",
    "    fig.write_image(savename, format='png', width=1000, height=500)\n",
    "    #fig.show()\n",
    "\n",
    "def main(language: str):\n",
    "    metadata = get_metadata(language)\n",
    "    data = get_data(language)\n",
    "    \n",
    "    df = concatenate_dfs(metadata,data)\n",
    "    \n",
    "    plot_scatterplot(df, language)\n"
   ]
  },
  {
   "cell_type": "code",
   "execution_count": 39,
   "id": "ba2b4c77",
   "metadata": {},
   "outputs": [],
   "source": [
    "languages = [\"deu\", \"eng\", \"spa\", \"fra\", \"por\", \"hun\", \"rom\", \"slv\"] #\"nor\", \"srp\" die manualCounts.dat fehlt"
   ]
  },
  {
   "cell_type": "code",
   "execution_count": 40,
   "id": "2b01a26e",
   "metadata": {},
   "outputs": [],
   "source": [
    "for language in languages:\n",
    "    main(language)"
   ]
  }
 ],
 "metadata": {
  "kernelspec": {
   "display_name": "Python 3.10 (tensorflow)",
   "language": "python",
   "name": "tensorflow"
  },
  "language_info": {
   "codemirror_mode": {
    "name": "ipython",
    "version": 3
   },
   "file_extension": ".py",
   "mimetype": "text/x-python",
   "name": "python",
   "nbconvert_exporter": "python",
   "pygments_lexer": "ipython3",
   "version": "3.10.8"
  }
 },
 "nbformat": 4,
 "nbformat_minor": 5
}
