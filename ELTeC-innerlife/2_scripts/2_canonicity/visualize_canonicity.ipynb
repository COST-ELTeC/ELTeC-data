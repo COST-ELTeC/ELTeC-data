{
 "cells": [
  {
   "cell_type": "code",
   "execution_count": 1,
   "id": "cfffbd6e",
   "metadata": {},
   "outputs": [],
   "source": [
    "# Imports\n",
    "import pandas as pd\n",
    "import plotly.express as px\n",
    "import seaborn as sns\n",
    "from matplotlib import pyplot as plt"
   ]
  },
  {
   "cell_type": "code",
   "execution_count": 2,
   "id": "a71122d0",
   "metadata": {},
   "outputs": [
    {
     "name": "stdout",
     "output_type": "stream",
     "text": [
      "fatal: destination path 'ELTeC-deu' already exists and is not an empty directory.\n",
      "fatal: destination path 'ELTeC-eng' already exists and is not an empty directory.\n",
      "fatal: destination path 'ELTeC-spa' already exists and is not an empty directory.\n",
      "fatal: destination path 'ELTeC-fra' already exists and is not an empty directory.\n",
      "fatal: destination path 'ELTeC-por' already exists and is not an empty directory.\n",
      "fatal: destination path 'ELTeC-srp' already exists and is not an empty directory.\n",
      "fatal: destination path 'ELTeC-hun' already exists and is not an empty directory.\n",
      "fatal: destination path 'ELTeC-nor' already exists and is not an empty directory.\n",
      "fatal: destination path 'ELTeC-rom' already exists and is not an empty directory.\n",
      "fatal: destination path 'ELTeC-slv' already exists and is not an empty directory.\n"
     ]
    }
   ],
   "source": [
    "# Clone reps\n",
    "! git clone https://github.com/COST-ELTeC/ELTeC-deu.git\n",
    "! git clone https://github.com/COST-ELTeC/ELTeC-eng.git\n",
    "! git clone https://github.com/COST-ELTeC/ELTeC-spa.git \n",
    "! git clone https://github.com/COST-ELTeC/ELTeC-fra.git \n",
    "! git clone https://github.com/COST-ELTeC/ELTeC-por.git\n",
    "! git clone https://github.com/COST-ELTeC/ELTeC-srp.git \n",
    "! git clone https://github.com/COST-ELTeC/ELTeC-hun.git\n",
    "! git clone https://github.com/COST-ELTeC/ELTeC-nor.git\n",
    "! git clone https://github.com/COST-ELTeC/ELTeC-rom.git\n",
    "! git clone https://github.com/COST-ELTeC/ELTeC-slv.git"
   ]
  },
  {
   "cell_type": "code",
   "execution_count": 38,
   "id": "fc25fe26",
   "metadata": {},
   "outputs": [],
   "source": [
    "def get_metadata(language: str):\n",
    "    path = \"ELTeC-\" + language + \"/ELTeC-\" + language + \"_metadata.tsv\"\n",
    "    df = pd.read_csv(path, sep=\"\\t\", encoding=\"utf-8\")\n",
    "    return df\n",
    "\n",
    "def get_data(language: str):\n",
    "    path = \"ELTeC-data/\" + language + \"/manualCounts.dat\"\n",
    "    df = pd.read_csv(path, sep=\" \", encoding=\"utf-8\")\n",
    "    df[\"anteil_innerVerbs\"] = df[\"innerVerbs\"]/df[\"verbs\"]\n",
    "    \n",
    "    return df\n",
    "\n",
    "def concatenate_dfs(metadata, data):\n",
    "    df = pd.concat([metadata, data], axis=1, join=\"inner\")\n",
    "    return df\n",
    "\n",
    "\"\"\"def plot_scatterplot(df, language):\n",
    "    sns.lmplot(x=\"year\", \n",
    "           y=\"anteil_innerVerbs\", \n",
    "           hue=\"reprint-count\",\n",
    "           data=df,\n",
    "           height=10)\n",
    "\n",
    "    savename = \"plots/\" + language + \".png\"\n",
    "    plt.savefig(savename,format='png',dpi=150)\n",
    "    #plt.show()\"\"\"\n",
    "\n",
    "def plot_scatterplot(df, language):\n",
    "    color_discrete_map = {'low': 'green', 'unspecified': 'grey', 'high': 'red'}\n",
    "    fig = px.scatter(\n",
    "            df,\n",
    "            x=\"year\", \n",
    "           y=\"anteil_innerVerbs\", \n",
    "           color=\"reprint-count\",\n",
    "        trendline=\"ols\",\n",
    "        color_discrete_map=color_discrete_map\n",
    "           )\n",
    "           #height=10)\n",
    "\n",
    "    \n",
    "    savename = \"plots/\" + language + \".png\"\n",
    "    #plt.savefig(savename,format='png',dpi=150)\n",
    "    fig.write_image(savename, format='png', width=1000, height=500)\n",
    "    #fig.show()\n",
    "\n",
    "def main(language: str):\n",
    "    metadata = get_metadata(language)\n",
    "    data = get_data(language)\n",
    "    \n",
    "    df = concatenate_dfs(metadata,data)\n",
    "    \n",
    "    plot_scatterplot(df, language)\n"
   ]
  },
  {
   "cell_type": "code",
   "execution_count": 39,
   "id": "ba2b4c77",
   "metadata": {},
   "outputs": [],
   "source": [
    "languages = [\"deu\", \"eng\", \"spa\", \"fra\", \"por\", \"hun\", \"rom\", \"slv\"] #\"nor\", \"srp\" die manualCounts.dat fehlt"
   ]
  },
  {
   "cell_type": "code",
   "execution_count": 40,
   "id": "2b01a26e",
   "metadata": {},
   "outputs": [],
   "source": [
    "for language in languages:\n",
    "    main(language)"
   ]
  },
  {
   "cell_type": "code",
   "execution_count": null,
   "id": "f87cb24b",
   "metadata": {},
   "outputs": [],
   "source": []
  },
  {
   "cell_type": "code",
   "execution_count": 21,
   "id": "266965f5",
   "metadata": {},
   "outputs": [
    {
     "data": {
      "application/vnd.plotly.v1+json": {
       "config": {
        "plotlyServerURL": "https://plot.ly"
       },
       "data": [
        {
         "hovertemplate": "reprint-count=high<br>year=%{x}<br>anteil_innerVerbs=%{y}<extra></extra>",
         "legendgroup": "high",
         "marker": {
          "color": "red",
          "symbol": "circle"
         },
         "mode": "markers",
         "name": "high",
         "orientation": "v",
         "showlegend": true,
         "type": "scatter",
         "x": [
          1845,
          1853,
          1859,
          1859,
          1841,
          1856,
          1840,
          1843,
          1855,
          1864,
          1870,
          1874,
          1855,
          1879,
          1880,
          1872,
          1864,
          1861,
          1867,
          1862,
          1880,
          1884,
          1890,
          1897,
          1894,
          1892,
          1897,
          1898,
          1895,
          1888,
          1882,
          1886,
          1899,
          1908,
          1919,
          1910,
          1907,
          1901,
          1915,
          1909,
          1914,
          1905,
          1903,
          1918,
          1915,
          1913,
          1914,
          1903
         ],
         "xaxis": "x",
         "y": [
          0.1262247237856994,
          0.13753511664834495,
          0.1516707196253265,
          0.138612433290062,
          0.13515182707153886,
          0.15035475792988315,
          0.17695454122896717,
          0.138366124893071,
          0.11831480953738006,
          0.125,
          0.13619075482738444,
          0.0859148651660352,
          0.13215968261839822,
          0.13441051136363635,
          0.11979736342179495,
          0.14994356659142213,
          0.11645863570391872,
          0.1564460476787955,
          0.14107038976148925,
          0.11319779462439697,
          0.1213030733209196,
          0.1569713758079409,
          0.14097609846858453,
          0.14745308310991956,
          0.1585168018539977,
          0.12221664155365813,
          0.15808008347463154,
          0.16115683047260757,
          0.13085969852575782,
          0.11423722758127902,
          0.1392570468545828,
          0.13837584286133098,
          0.15706997084548105,
          0.1270442156268928,
          0.1357336861898461,
          0.14738341046635814,
          0.1545258620689655,
          0.14016982895217975,
          0.11641077271583186,
          0.1273759565539373,
          0.14975422810963926,
          0.12811059907834102,
          0.14382767191383597,
          0.1060184507248499,
          0.14933837429111532,
          0.1682653876898481,
          0.11920260374288039,
          0.1250758035172832
         ],
         "yaxis": "y"
        },
        {
         "hovertemplate": "<b>OLS trendline</b><br>anteil_innerVerbs = 4.41886e-06 * year + 0.128518<br>R<sup>2</sup>=0.000035<br><br>reprint-count=high<br>year=%{x}<br>anteil_innerVerbs=%{y} <b>(trend)</b><extra></extra>",
         "legendgroup": "high",
         "marker": {
          "color": "red",
          "symbol": "circle"
         },
         "mode": "lines",
         "name": "high",
         "showlegend": false,
         "type": "scatter",
         "x": [
          1840,
          1841,
          1843,
          1845,
          1853,
          1855,
          1855,
          1856,
          1859,
          1859,
          1861,
          1862,
          1864,
          1864,
          1867,
          1870,
          1872,
          1874,
          1879,
          1880,
          1880,
          1882,
          1884,
          1886,
          1888,
          1890,
          1892,
          1894,
          1895,
          1897,
          1897,
          1898,
          1899,
          1901,
          1903,
          1903,
          1905,
          1907,
          1908,
          1909,
          1910,
          1913,
          1914,
          1914,
          1915,
          1915,
          1918,
          1919
         ],
         "xaxis": "x",
         "y": [
          0.1366487373578643,
          0.13665315622262203,
          0.1366619939521375,
          0.13667083168165292,
          0.13670618259971468,
          0.13671502032923014,
          0.13671502032923014,
          0.13671943919398785,
          0.13673269578826103,
          0.13673269578826103,
          0.13674153351777646,
          0.13674595238253417,
          0.13675479011204963,
          0.13675479011204963,
          0.13676804670632278,
          0.13678130330059596,
          0.1367901410301114,
          0.13679897875962685,
          0.13682107308341543,
          0.13682549194817317,
          0.13682549194817317,
          0.1368343296776886,
          0.13684316740720404,
          0.1368520051367195,
          0.13686084286623493,
          0.1368696805957504,
          0.13687851832526582,
          0.13688735605478125,
          0.136891774919539,
          0.13690061264905443,
          0.13690061264905443,
          0.13690503151381214,
          0.13690945037856986,
          0.13691828810808532,
          0.13692712583760075,
          0.13692712583760075,
          0.13693596356711618,
          0.13694480129663164,
          0.13694922016138936,
          0.13695363902614707,
          0.1369580578909048,
          0.13697131448517796,
          0.13697573334993568,
          0.13697573334993568,
          0.1369801522146934,
          0.1369801522146934,
          0.13699340880896657,
          0.1369978276737243
         ],
         "yaxis": "y"
        },
        {
         "hovertemplate": "reprint-count=unspecified<br>year=%{x}<br>anteil_innerVerbs=%{y}<extra></extra>",
         "legendgroup": "unspecified",
         "marker": {
          "color": "grey",
          "symbol": "circle"
         },
         "mode": "markers",
         "name": "unspecified",
         "orientation": "v",
         "showlegend": true,
         "type": "scatter",
         "x": [
          1855,
          1847,
          1879,
          1869,
          1881,
          1906
         ],
         "xaxis": "x",
         "y": [
          0.15217308931074988,
          0.1443972557987586,
          0.15107091861018562,
          0.1715649901603381,
          0.13074484944532488,
          0.2040203327171904
         ],
         "yaxis": "y"
        },
        {
         "hovertemplate": "<b>OLS trendline</b><br>anteil_innerVerbs = 0.000754863 * year + -1.25474<br>R<sup>2</sup>=0.380047<br><br>reprint-count=unspecified<br>year=%{x}<br>anteil_innerVerbs=%{y} <b>(trend)</b><extra></extra>",
         "legendgroup": "unspecified",
         "marker": {
          "color": "grey",
          "symbol": "circle"
         },
         "mode": "lines",
         "name": "unspecified",
         "showlegend": false,
         "type": "scatter",
         "x": [
          1847,
          1855,
          1869,
          1879,
          1881,
          1906
         ],
         "xaxis": "x",
         "y": [
          0.13949462118179576,
          0.14553352228898342,
          0.15610159922656186,
          0.16365022561054648,
          0.1651599508873434,
          0.1840315168473049
         ],
         "yaxis": "y"
        },
        {
         "hovertemplate": "reprint-count=low<br>year=%{x}<br>anteil_innerVerbs=%{y}<extra></extra>",
         "legendgroup": "low",
         "marker": {
          "color": "green",
          "symbol": "circle"
         },
         "mode": "markers",
         "name": "low",
         "orientation": "v",
         "showlegend": true,
         "type": "scatter",
         "x": [
          1847,
          1843,
          1859,
          1848,
          1855,
          1840,
          1846,
          1845,
          1846,
          1846,
          1843,
          1844,
          1841,
          1861,
          1876,
          1871,
          1879,
          1878,
          1868,
          1865,
          1876,
          1865,
          1879,
          1863,
          1867,
          1885,
          1880,
          1898,
          1889,
          1896,
          1888,
          1888,
          1895,
          1898,
          1887,
          1889,
          1896,
          1903,
          1914,
          1909,
          1912,
          1918,
          1921,
          1920,
          1908,
          1911
         ],
         "xaxis": "x",
         "y": [
          0.1454183266932271,
          0.14906505135633394,
          0.154851056748211,
          0.12266171640725404,
          0.12635,
          0.13994250858865595,
          0.13916409382056127,
          0.13320810192747468,
          0.13487031700288185,
          0.1439768161759863,
          0.15199774504967936,
          0.1699838622915546,
          0.1510966693744923,
          0.12964739683543974,
          0.10949059395476643,
          0.12699107299142307,
          0.14746897990556715,
          0.1324905627249583,
          0.13461858068805052,
          0.12513513513513513,
          0.1234588264401468,
          0.09153005464480875,
          0.18240106124253813,
          0.12394822006472492,
          0.11722925972028996,
          0.16135173726796764,
          0.15875865606565787,
          0.1511443250817375,
          0.14924181963288108,
          0.1615746769508164,
          0.17391950096539432,
          0.12119723613976488,
          0.14454135338345864,
          0.10731628358692133,
          0.14369345396487493,
          0.1537382240930046,
          0.15404219170324224,
          0.1779007923586237,
          0.14631043256997456,
          0.12296462661426165,
          0.18694690265486727,
          0.11789297658862877,
          0.15985008962033567,
          0.1419068736141907,
          0.14616225406849648,
          0.15344678396308048
         ],
         "yaxis": "y"
        },
        {
         "hovertemplate": "<b>OLS trendline</b><br>anteil_innerVerbs = 0.000149633 * year + -0.138713<br>R<sup>2</sup>=0.034495<br><br>reprint-count=low<br>year=%{x}<br>anteil_innerVerbs=%{y} <b>(trend)</b><extra></extra>",
         "legendgroup": "low",
         "marker": {
          "color": "green",
          "symbol": "circle"
         },
         "mode": "lines",
         "name": "low",
         "showlegend": false,
         "type": "scatter",
         "x": [
          1840,
          1841,
          1843,
          1843,
          1844,
          1845,
          1846,
          1846,
          1846,
          1847,
          1848,
          1855,
          1859,
          1861,
          1863,
          1865,
          1865,
          1867,
          1868,
          1871,
          1876,
          1876,
          1878,
          1879,
          1879,
          1880,
          1885,
          1887,
          1888,
          1888,
          1889,
          1889,
          1895,
          1896,
          1896,
          1898,
          1898,
          1903,
          1908,
          1909,
          1911,
          1912,
          1914,
          1918,
          1920,
          1921
         ],
         "xaxis": "x",
         "y": [
          0.13661145870457225,
          0.1367610916301329,
          0.1370603574812541,
          0.1370603574812541,
          0.13720999040681472,
          0.13735962333237534,
          0.13750925625793597,
          0.13750925625793597,
          0.13750925625793597,
          0.13765888918349659,
          0.1378085221090572,
          0.1388559525879815,
          0.13945448429022397,
          0.1397537501413452,
          0.14005301599246645,
          0.14035228184358767,
          0.14035228184358767,
          0.14065154769470892,
          0.14080118062026953,
          0.14125007939695136,
          0.14199824402475444,
          0.14199824402475444,
          0.1422975098758757,
          0.1424471428014363,
          0.1424471428014363,
          0.14259677572699692,
          0.1433449403548,
          0.14364420620592122,
          0.14379383913148186,
          0.14379383913148186,
          0.14394347205704247,
          0.14394347205704247,
          0.14484126961040616,
          0.14499090253596678,
          0.14499090253596678,
          0.145290168387088,
          0.145290168387088,
          0.14603833301489108,
          0.14678649764269416,
          0.1469361305682548,
          0.14723539641937602,
          0.14738502934493664,
          0.14768429519605786,
          0.14828282689830033,
          0.14858209274942158,
          0.1487317256749822
         ],
         "yaxis": "y"
        }
       ],
       "layout": {
        "legend": {
         "title": {
          "text": "reprint-count"
         },
         "tracegroupgap": 0
        },
        "margin": {
         "t": 60
        },
        "template": {
         "data": {
          "bar": [
           {
            "error_x": {
             "color": "#2a3f5f"
            },
            "error_y": {
             "color": "#2a3f5f"
            },
            "marker": {
             "line": {
              "color": "#E5ECF6",
              "width": 0.5
             },
             "pattern": {
              "fillmode": "overlay",
              "size": 10,
              "solidity": 0.2
             }
            },
            "type": "bar"
           }
          ],
          "barpolar": [
           {
            "marker": {
             "line": {
              "color": "#E5ECF6",
              "width": 0.5
             },
             "pattern": {
              "fillmode": "overlay",
              "size": 10,
              "solidity": 0.2
             }
            },
            "type": "barpolar"
           }
          ],
          "carpet": [
           {
            "aaxis": {
             "endlinecolor": "#2a3f5f",
             "gridcolor": "white",
             "linecolor": "white",
             "minorgridcolor": "white",
             "startlinecolor": "#2a3f5f"
            },
            "baxis": {
             "endlinecolor": "#2a3f5f",
             "gridcolor": "white",
             "linecolor": "white",
             "minorgridcolor": "white",
             "startlinecolor": "#2a3f5f"
            },
            "type": "carpet"
           }
          ],
          "choropleth": [
           {
            "colorbar": {
             "outlinewidth": 0,
             "ticks": ""
            },
            "type": "choropleth"
           }
          ],
          "contour": [
           {
            "colorbar": {
             "outlinewidth": 0,
             "ticks": ""
            },
            "colorscale": [
             [
              0,
              "#0d0887"
             ],
             [
              0.1111111111111111,
              "#46039f"
             ],
             [
              0.2222222222222222,
              "#7201a8"
             ],
             [
              0.3333333333333333,
              "#9c179e"
             ],
             [
              0.4444444444444444,
              "#bd3786"
             ],
             [
              0.5555555555555556,
              "#d8576b"
             ],
             [
              0.6666666666666666,
              "#ed7953"
             ],
             [
              0.7777777777777778,
              "#fb9f3a"
             ],
             [
              0.8888888888888888,
              "#fdca26"
             ],
             [
              1,
              "#f0f921"
             ]
            ],
            "type": "contour"
           }
          ],
          "contourcarpet": [
           {
            "colorbar": {
             "outlinewidth": 0,
             "ticks": ""
            },
            "type": "contourcarpet"
           }
          ],
          "heatmap": [
           {
            "colorbar": {
             "outlinewidth": 0,
             "ticks": ""
            },
            "colorscale": [
             [
              0,
              "#0d0887"
             ],
             [
              0.1111111111111111,
              "#46039f"
             ],
             [
              0.2222222222222222,
              "#7201a8"
             ],
             [
              0.3333333333333333,
              "#9c179e"
             ],
             [
              0.4444444444444444,
              "#bd3786"
             ],
             [
              0.5555555555555556,
              "#d8576b"
             ],
             [
              0.6666666666666666,
              "#ed7953"
             ],
             [
              0.7777777777777778,
              "#fb9f3a"
             ],
             [
              0.8888888888888888,
              "#fdca26"
             ],
             [
              1,
              "#f0f921"
             ]
            ],
            "type": "heatmap"
           }
          ],
          "heatmapgl": [
           {
            "colorbar": {
             "outlinewidth": 0,
             "ticks": ""
            },
            "colorscale": [
             [
              0,
              "#0d0887"
             ],
             [
              0.1111111111111111,
              "#46039f"
             ],
             [
              0.2222222222222222,
              "#7201a8"
             ],
             [
              0.3333333333333333,
              "#9c179e"
             ],
             [
              0.4444444444444444,
              "#bd3786"
             ],
             [
              0.5555555555555556,
              "#d8576b"
             ],
             [
              0.6666666666666666,
              "#ed7953"
             ],
             [
              0.7777777777777778,
              "#fb9f3a"
             ],
             [
              0.8888888888888888,
              "#fdca26"
             ],
             [
              1,
              "#f0f921"
             ]
            ],
            "type": "heatmapgl"
           }
          ],
          "histogram": [
           {
            "marker": {
             "pattern": {
              "fillmode": "overlay",
              "size": 10,
              "solidity": 0.2
             }
            },
            "type": "histogram"
           }
          ],
          "histogram2d": [
           {
            "colorbar": {
             "outlinewidth": 0,
             "ticks": ""
            },
            "colorscale": [
             [
              0,
              "#0d0887"
             ],
             [
              0.1111111111111111,
              "#46039f"
             ],
             [
              0.2222222222222222,
              "#7201a8"
             ],
             [
              0.3333333333333333,
              "#9c179e"
             ],
             [
              0.4444444444444444,
              "#bd3786"
             ],
             [
              0.5555555555555556,
              "#d8576b"
             ],
             [
              0.6666666666666666,
              "#ed7953"
             ],
             [
              0.7777777777777778,
              "#fb9f3a"
             ],
             [
              0.8888888888888888,
              "#fdca26"
             ],
             [
              1,
              "#f0f921"
             ]
            ],
            "type": "histogram2d"
           }
          ],
          "histogram2dcontour": [
           {
            "colorbar": {
             "outlinewidth": 0,
             "ticks": ""
            },
            "colorscale": [
             [
              0,
              "#0d0887"
             ],
             [
              0.1111111111111111,
              "#46039f"
             ],
             [
              0.2222222222222222,
              "#7201a8"
             ],
             [
              0.3333333333333333,
              "#9c179e"
             ],
             [
              0.4444444444444444,
              "#bd3786"
             ],
             [
              0.5555555555555556,
              "#d8576b"
             ],
             [
              0.6666666666666666,
              "#ed7953"
             ],
             [
              0.7777777777777778,
              "#fb9f3a"
             ],
             [
              0.8888888888888888,
              "#fdca26"
             ],
             [
              1,
              "#f0f921"
             ]
            ],
            "type": "histogram2dcontour"
           }
          ],
          "mesh3d": [
           {
            "colorbar": {
             "outlinewidth": 0,
             "ticks": ""
            },
            "type": "mesh3d"
           }
          ],
          "parcoords": [
           {
            "line": {
             "colorbar": {
              "outlinewidth": 0,
              "ticks": ""
             }
            },
            "type": "parcoords"
           }
          ],
          "pie": [
           {
            "automargin": true,
            "type": "pie"
           }
          ],
          "scatter": [
           {
            "fillpattern": {
             "fillmode": "overlay",
             "size": 10,
             "solidity": 0.2
            },
            "type": "scatter"
           }
          ],
          "scatter3d": [
           {
            "line": {
             "colorbar": {
              "outlinewidth": 0,
              "ticks": ""
             }
            },
            "marker": {
             "colorbar": {
              "outlinewidth": 0,
              "ticks": ""
             }
            },
            "type": "scatter3d"
           }
          ],
          "scattercarpet": [
           {
            "marker": {
             "colorbar": {
              "outlinewidth": 0,
              "ticks": ""
             }
            },
            "type": "scattercarpet"
           }
          ],
          "scattergeo": [
           {
            "marker": {
             "colorbar": {
              "outlinewidth": 0,
              "ticks": ""
             }
            },
            "type": "scattergeo"
           }
          ],
          "scattergl": [
           {
            "marker": {
             "colorbar": {
              "outlinewidth": 0,
              "ticks": ""
             }
            },
            "type": "scattergl"
           }
          ],
          "scattermapbox": [
           {
            "marker": {
             "colorbar": {
              "outlinewidth": 0,
              "ticks": ""
             }
            },
            "type": "scattermapbox"
           }
          ],
          "scatterpolar": [
           {
            "marker": {
             "colorbar": {
              "outlinewidth": 0,
              "ticks": ""
             }
            },
            "type": "scatterpolar"
           }
          ],
          "scatterpolargl": [
           {
            "marker": {
             "colorbar": {
              "outlinewidth": 0,
              "ticks": ""
             }
            },
            "type": "scatterpolargl"
           }
          ],
          "scatterternary": [
           {
            "marker": {
             "colorbar": {
              "outlinewidth": 0,
              "ticks": ""
             }
            },
            "type": "scatterternary"
           }
          ],
          "surface": [
           {
            "colorbar": {
             "outlinewidth": 0,
             "ticks": ""
            },
            "colorscale": [
             [
              0,
              "#0d0887"
             ],
             [
              0.1111111111111111,
              "#46039f"
             ],
             [
              0.2222222222222222,
              "#7201a8"
             ],
             [
              0.3333333333333333,
              "#9c179e"
             ],
             [
              0.4444444444444444,
              "#bd3786"
             ],
             [
              0.5555555555555556,
              "#d8576b"
             ],
             [
              0.6666666666666666,
              "#ed7953"
             ],
             [
              0.7777777777777778,
              "#fb9f3a"
             ],
             [
              0.8888888888888888,
              "#fdca26"
             ],
             [
              1,
              "#f0f921"
             ]
            ],
            "type": "surface"
           }
          ],
          "table": [
           {
            "cells": {
             "fill": {
              "color": "#EBF0F8"
             },
             "line": {
              "color": "white"
             }
            },
            "header": {
             "fill": {
              "color": "#C8D4E3"
             },
             "line": {
              "color": "white"
             }
            },
            "type": "table"
           }
          ]
         },
         "layout": {
          "annotationdefaults": {
           "arrowcolor": "#2a3f5f",
           "arrowhead": 0,
           "arrowwidth": 1
          },
          "autotypenumbers": "strict",
          "coloraxis": {
           "colorbar": {
            "outlinewidth": 0,
            "ticks": ""
           }
          },
          "colorscale": {
           "diverging": [
            [
             0,
             "#8e0152"
            ],
            [
             0.1,
             "#c51b7d"
            ],
            [
             0.2,
             "#de77ae"
            ],
            [
             0.3,
             "#f1b6da"
            ],
            [
             0.4,
             "#fde0ef"
            ],
            [
             0.5,
             "#f7f7f7"
            ],
            [
             0.6,
             "#e6f5d0"
            ],
            [
             0.7,
             "#b8e186"
            ],
            [
             0.8,
             "#7fbc41"
            ],
            [
             0.9,
             "#4d9221"
            ],
            [
             1,
             "#276419"
            ]
           ],
           "sequential": [
            [
             0,
             "#0d0887"
            ],
            [
             0.1111111111111111,
             "#46039f"
            ],
            [
             0.2222222222222222,
             "#7201a8"
            ],
            [
             0.3333333333333333,
             "#9c179e"
            ],
            [
             0.4444444444444444,
             "#bd3786"
            ],
            [
             0.5555555555555556,
             "#d8576b"
            ],
            [
             0.6666666666666666,
             "#ed7953"
            ],
            [
             0.7777777777777778,
             "#fb9f3a"
            ],
            [
             0.8888888888888888,
             "#fdca26"
            ],
            [
             1,
             "#f0f921"
            ]
           ],
           "sequentialminus": [
            [
             0,
             "#0d0887"
            ],
            [
             0.1111111111111111,
             "#46039f"
            ],
            [
             0.2222222222222222,
             "#7201a8"
            ],
            [
             0.3333333333333333,
             "#9c179e"
            ],
            [
             0.4444444444444444,
             "#bd3786"
            ],
            [
             0.5555555555555556,
             "#d8576b"
            ],
            [
             0.6666666666666666,
             "#ed7953"
            ],
            [
             0.7777777777777778,
             "#fb9f3a"
            ],
            [
             0.8888888888888888,
             "#fdca26"
            ],
            [
             1,
             "#f0f921"
            ]
           ]
          },
          "colorway": [
           "#636efa",
           "#EF553B",
           "#00cc96",
           "#ab63fa",
           "#FFA15A",
           "#19d3f3",
           "#FF6692",
           "#B6E880",
           "#FF97FF",
           "#FECB52"
          ],
          "font": {
           "color": "#2a3f5f"
          },
          "geo": {
           "bgcolor": "white",
           "lakecolor": "white",
           "landcolor": "#E5ECF6",
           "showlakes": true,
           "showland": true,
           "subunitcolor": "white"
          },
          "hoverlabel": {
           "align": "left"
          },
          "hovermode": "closest",
          "mapbox": {
           "style": "light"
          },
          "paper_bgcolor": "white",
          "plot_bgcolor": "#E5ECF6",
          "polar": {
           "angularaxis": {
            "gridcolor": "white",
            "linecolor": "white",
            "ticks": ""
           },
           "bgcolor": "#E5ECF6",
           "radialaxis": {
            "gridcolor": "white",
            "linecolor": "white",
            "ticks": ""
           }
          },
          "scene": {
           "xaxis": {
            "backgroundcolor": "#E5ECF6",
            "gridcolor": "white",
            "gridwidth": 2,
            "linecolor": "white",
            "showbackground": true,
            "ticks": "",
            "zerolinecolor": "white"
           },
           "yaxis": {
            "backgroundcolor": "#E5ECF6",
            "gridcolor": "white",
            "gridwidth": 2,
            "linecolor": "white",
            "showbackground": true,
            "ticks": "",
            "zerolinecolor": "white"
           },
           "zaxis": {
            "backgroundcolor": "#E5ECF6",
            "gridcolor": "white",
            "gridwidth": 2,
            "linecolor": "white",
            "showbackground": true,
            "ticks": "",
            "zerolinecolor": "white"
           }
          },
          "shapedefaults": {
           "line": {
            "color": "#2a3f5f"
           }
          },
          "ternary": {
           "aaxis": {
            "gridcolor": "white",
            "linecolor": "white",
            "ticks": ""
           },
           "baxis": {
            "gridcolor": "white",
            "linecolor": "white",
            "ticks": ""
           },
           "bgcolor": "#E5ECF6",
           "caxis": {
            "gridcolor": "white",
            "linecolor": "white",
            "ticks": ""
           }
          },
          "title": {
           "x": 0.05
          },
          "xaxis": {
           "automargin": true,
           "gridcolor": "white",
           "linecolor": "white",
           "ticks": "",
           "title": {
            "standoff": 15
           },
           "zerolinecolor": "white",
           "zerolinewidth": 2
          },
          "yaxis": {
           "automargin": true,
           "gridcolor": "white",
           "linecolor": "white",
           "ticks": "",
           "title": {
            "standoff": 15
           },
           "zerolinecolor": "white",
           "zerolinewidth": 2
          }
         }
        },
        "xaxis": {
         "anchor": "y",
         "domain": [
          0,
          1
         ],
         "title": {
          "text": "year"
         }
        },
        "yaxis": {
         "anchor": "x",
         "domain": [
          0,
          1
         ],
         "title": {
          "text": "anteil_innerVerbs"
         }
        }
       }
      },
      "text/html": [
       "<div>                            <div id=\"2a52c334-243d-4c6e-a913-dc1b6a5f42aa\" class=\"plotly-graph-div\" style=\"height:525px; width:100%;\"></div>            <script type=\"text/javascript\">                require([\"plotly\"], function(Plotly) {                    window.PLOTLYENV=window.PLOTLYENV || {};                                    if (document.getElementById(\"2a52c334-243d-4c6e-a913-dc1b6a5f42aa\")) {                    Plotly.newPlot(                        \"2a52c334-243d-4c6e-a913-dc1b6a5f42aa\",                        [{\"hovertemplate\":\"reprint-count=high<br>year=%{x}<br>anteil_innerVerbs=%{y}<extra></extra>\",\"legendgroup\":\"high\",\"marker\":{\"color\":\"red\",\"symbol\":\"circle\"},\"mode\":\"markers\",\"name\":\"high\",\"orientation\":\"v\",\"showlegend\":true,\"x\":[1845,1853,1859,1859,1841,1856,1840,1843,1855,1864,1870,1874,1855,1879,1880,1872,1864,1861,1867,1862,1880,1884,1890,1897,1894,1892,1897,1898,1895,1888,1882,1886,1899,1908,1919,1910,1907,1901,1915,1909,1914,1905,1903,1918,1915,1913,1914,1903],\"xaxis\":\"x\",\"y\":[0.1262247237856994,0.13753511664834495,0.1516707196253265,0.138612433290062,0.13515182707153886,0.15035475792988315,0.17695454122896717,0.138366124893071,0.11831480953738006,0.125,0.13619075482738444,0.0859148651660352,0.13215968261839822,0.13441051136363635,0.11979736342179495,0.14994356659142213,0.11645863570391872,0.1564460476787955,0.14107038976148925,0.11319779462439697,0.1213030733209196,0.1569713758079409,0.14097609846858453,0.14745308310991956,0.1585168018539977,0.12221664155365813,0.15808008347463154,0.16115683047260757,0.13085969852575782,0.11423722758127902,0.1392570468545828,0.13837584286133098,0.15706997084548105,0.1270442156268928,0.1357336861898461,0.14738341046635814,0.1545258620689655,0.14016982895217975,0.11641077271583186,0.1273759565539373,0.14975422810963926,0.12811059907834102,0.14382767191383597,0.1060184507248499,0.14933837429111532,0.1682653876898481,0.11920260374288039,0.1250758035172832],\"yaxis\":\"y\",\"type\":\"scatter\"},{\"hovertemplate\":\"<b>OLS trendline</b><br>anteil_innerVerbs = 4.41886e-06 * year + 0.128518<br>R<sup>2</sup>=0.000035<br><br>reprint-count=high<br>year=%{x}<br>anteil_innerVerbs=%{y} <b>(trend)</b><extra></extra>\",\"legendgroup\":\"high\",\"marker\":{\"color\":\"red\",\"symbol\":\"circle\"},\"mode\":\"lines\",\"name\":\"high\",\"showlegend\":false,\"x\":[1840,1841,1843,1845,1853,1855,1855,1856,1859,1859,1861,1862,1864,1864,1867,1870,1872,1874,1879,1880,1880,1882,1884,1886,1888,1890,1892,1894,1895,1897,1897,1898,1899,1901,1903,1903,1905,1907,1908,1909,1910,1913,1914,1914,1915,1915,1918,1919],\"xaxis\":\"x\",\"y\":[0.1366487373578643,0.13665315622262203,0.1366619939521375,0.13667083168165292,0.13670618259971468,0.13671502032923014,0.13671502032923014,0.13671943919398785,0.13673269578826103,0.13673269578826103,0.13674153351777646,0.13674595238253417,0.13675479011204963,0.13675479011204963,0.13676804670632278,0.13678130330059596,0.1367901410301114,0.13679897875962685,0.13682107308341543,0.13682549194817317,0.13682549194817317,0.1368343296776886,0.13684316740720404,0.1368520051367195,0.13686084286623493,0.1368696805957504,0.13687851832526582,0.13688735605478125,0.136891774919539,0.13690061264905443,0.13690061264905443,0.13690503151381214,0.13690945037856986,0.13691828810808532,0.13692712583760075,0.13692712583760075,0.13693596356711618,0.13694480129663164,0.13694922016138936,0.13695363902614707,0.1369580578909048,0.13697131448517796,0.13697573334993568,0.13697573334993568,0.1369801522146934,0.1369801522146934,0.13699340880896657,0.1369978276737243],\"yaxis\":\"y\",\"type\":\"scatter\"},{\"hovertemplate\":\"reprint-count=unspecified<br>year=%{x}<br>anteil_innerVerbs=%{y}<extra></extra>\",\"legendgroup\":\"unspecified\",\"marker\":{\"color\":\"grey\",\"symbol\":\"circle\"},\"mode\":\"markers\",\"name\":\"unspecified\",\"orientation\":\"v\",\"showlegend\":true,\"x\":[1855,1847,1879,1869,1881,1906],\"xaxis\":\"x\",\"y\":[0.15217308931074988,0.1443972557987586,0.15107091861018562,0.1715649901603381,0.13074484944532488,0.2040203327171904],\"yaxis\":\"y\",\"type\":\"scatter\"},{\"hovertemplate\":\"<b>OLS trendline</b><br>anteil_innerVerbs = 0.000754863 * year + -1.25474<br>R<sup>2</sup>=0.380047<br><br>reprint-count=unspecified<br>year=%{x}<br>anteil_innerVerbs=%{y} <b>(trend)</b><extra></extra>\",\"legendgroup\":\"unspecified\",\"marker\":{\"color\":\"grey\",\"symbol\":\"circle\"},\"mode\":\"lines\",\"name\":\"unspecified\",\"showlegend\":false,\"x\":[1847,1855,1869,1879,1881,1906],\"xaxis\":\"x\",\"y\":[0.13949462118179576,0.14553352228898342,0.15610159922656186,0.16365022561054648,0.1651599508873434,0.1840315168473049],\"yaxis\":\"y\",\"type\":\"scatter\"},{\"hovertemplate\":\"reprint-count=low<br>year=%{x}<br>anteil_innerVerbs=%{y}<extra></extra>\",\"legendgroup\":\"low\",\"marker\":{\"color\":\"green\",\"symbol\":\"circle\"},\"mode\":\"markers\",\"name\":\"low\",\"orientation\":\"v\",\"showlegend\":true,\"x\":[1847,1843,1859,1848,1855,1840,1846,1845,1846,1846,1843,1844,1841,1861,1876,1871,1879,1878,1868,1865,1876,1865,1879,1863,1867,1885,1880,1898,1889,1896,1888,1888,1895,1898,1887,1889,1896,1903,1914,1909,1912,1918,1921,1920,1908,1911],\"xaxis\":\"x\",\"y\":[0.1454183266932271,0.14906505135633394,0.154851056748211,0.12266171640725404,0.12635,0.13994250858865595,0.13916409382056127,0.13320810192747468,0.13487031700288185,0.1439768161759863,0.15199774504967936,0.1699838622915546,0.1510966693744923,0.12964739683543974,0.10949059395476643,0.12699107299142307,0.14746897990556715,0.1324905627249583,0.13461858068805052,0.12513513513513513,0.1234588264401468,0.09153005464480875,0.18240106124253813,0.12394822006472492,0.11722925972028996,0.16135173726796764,0.15875865606565787,0.1511443250817375,0.14924181963288108,0.1615746769508164,0.17391950096539432,0.12119723613976488,0.14454135338345864,0.10731628358692133,0.14369345396487493,0.1537382240930046,0.15404219170324224,0.1779007923586237,0.14631043256997456,0.12296462661426165,0.18694690265486727,0.11789297658862877,0.15985008962033567,0.1419068736141907,0.14616225406849648,0.15344678396308048],\"yaxis\":\"y\",\"type\":\"scatter\"},{\"hovertemplate\":\"<b>OLS trendline</b><br>anteil_innerVerbs = 0.000149633 * year + -0.138713<br>R<sup>2</sup>=0.034495<br><br>reprint-count=low<br>year=%{x}<br>anteil_innerVerbs=%{y} <b>(trend)</b><extra></extra>\",\"legendgroup\":\"low\",\"marker\":{\"color\":\"green\",\"symbol\":\"circle\"},\"mode\":\"lines\",\"name\":\"low\",\"showlegend\":false,\"x\":[1840,1841,1843,1843,1844,1845,1846,1846,1846,1847,1848,1855,1859,1861,1863,1865,1865,1867,1868,1871,1876,1876,1878,1879,1879,1880,1885,1887,1888,1888,1889,1889,1895,1896,1896,1898,1898,1903,1908,1909,1911,1912,1914,1918,1920,1921],\"xaxis\":\"x\",\"y\":[0.13661145870457225,0.1367610916301329,0.1370603574812541,0.1370603574812541,0.13720999040681472,0.13735962333237534,0.13750925625793597,0.13750925625793597,0.13750925625793597,0.13765888918349659,0.1378085221090572,0.1388559525879815,0.13945448429022397,0.1397537501413452,0.14005301599246645,0.14035228184358767,0.14035228184358767,0.14065154769470892,0.14080118062026953,0.14125007939695136,0.14199824402475444,0.14199824402475444,0.1422975098758757,0.1424471428014363,0.1424471428014363,0.14259677572699692,0.1433449403548,0.14364420620592122,0.14379383913148186,0.14379383913148186,0.14394347205704247,0.14394347205704247,0.14484126961040616,0.14499090253596678,0.14499090253596678,0.145290168387088,0.145290168387088,0.14603833301489108,0.14678649764269416,0.1469361305682548,0.14723539641937602,0.14738502934493664,0.14768429519605786,0.14828282689830033,0.14858209274942158,0.1487317256749822],\"yaxis\":\"y\",\"type\":\"scatter\"}],                        {\"template\":{\"data\":{\"histogram2dcontour\":[{\"type\":\"histogram2dcontour\",\"colorbar\":{\"outlinewidth\":0,\"ticks\":\"\"},\"colorscale\":[[0.0,\"#0d0887\"],[0.1111111111111111,\"#46039f\"],[0.2222222222222222,\"#7201a8\"],[0.3333333333333333,\"#9c179e\"],[0.4444444444444444,\"#bd3786\"],[0.5555555555555556,\"#d8576b\"],[0.6666666666666666,\"#ed7953\"],[0.7777777777777778,\"#fb9f3a\"],[0.8888888888888888,\"#fdca26\"],[1.0,\"#f0f921\"]]}],\"choropleth\":[{\"type\":\"choropleth\",\"colorbar\":{\"outlinewidth\":0,\"ticks\":\"\"}}],\"histogram2d\":[{\"type\":\"histogram2d\",\"colorbar\":{\"outlinewidth\":0,\"ticks\":\"\"},\"colorscale\":[[0.0,\"#0d0887\"],[0.1111111111111111,\"#46039f\"],[0.2222222222222222,\"#7201a8\"],[0.3333333333333333,\"#9c179e\"],[0.4444444444444444,\"#bd3786\"],[0.5555555555555556,\"#d8576b\"],[0.6666666666666666,\"#ed7953\"],[0.7777777777777778,\"#fb9f3a\"],[0.8888888888888888,\"#fdca26\"],[1.0,\"#f0f921\"]]}],\"heatmap\":[{\"type\":\"heatmap\",\"colorbar\":{\"outlinewidth\":0,\"ticks\":\"\"},\"colorscale\":[[0.0,\"#0d0887\"],[0.1111111111111111,\"#46039f\"],[0.2222222222222222,\"#7201a8\"],[0.3333333333333333,\"#9c179e\"],[0.4444444444444444,\"#bd3786\"],[0.5555555555555556,\"#d8576b\"],[0.6666666666666666,\"#ed7953\"],[0.7777777777777778,\"#fb9f3a\"],[0.8888888888888888,\"#fdca26\"],[1.0,\"#f0f921\"]]}],\"heatmapgl\":[{\"type\":\"heatmapgl\",\"colorbar\":{\"outlinewidth\":0,\"ticks\":\"\"},\"colorscale\":[[0.0,\"#0d0887\"],[0.1111111111111111,\"#46039f\"],[0.2222222222222222,\"#7201a8\"],[0.3333333333333333,\"#9c179e\"],[0.4444444444444444,\"#bd3786\"],[0.5555555555555556,\"#d8576b\"],[0.6666666666666666,\"#ed7953\"],[0.7777777777777778,\"#fb9f3a\"],[0.8888888888888888,\"#fdca26\"],[1.0,\"#f0f921\"]]}],\"contourcarpet\":[{\"type\":\"contourcarpet\",\"colorbar\":{\"outlinewidth\":0,\"ticks\":\"\"}}],\"contour\":[{\"type\":\"contour\",\"colorbar\":{\"outlinewidth\":0,\"ticks\":\"\"},\"colorscale\":[[0.0,\"#0d0887\"],[0.1111111111111111,\"#46039f\"],[0.2222222222222222,\"#7201a8\"],[0.3333333333333333,\"#9c179e\"],[0.4444444444444444,\"#bd3786\"],[0.5555555555555556,\"#d8576b\"],[0.6666666666666666,\"#ed7953\"],[0.7777777777777778,\"#fb9f3a\"],[0.8888888888888888,\"#fdca26\"],[1.0,\"#f0f921\"]]}],\"surface\":[{\"type\":\"surface\",\"colorbar\":{\"outlinewidth\":0,\"ticks\":\"\"},\"colorscale\":[[0.0,\"#0d0887\"],[0.1111111111111111,\"#46039f\"],[0.2222222222222222,\"#7201a8\"],[0.3333333333333333,\"#9c179e\"],[0.4444444444444444,\"#bd3786\"],[0.5555555555555556,\"#d8576b\"],[0.6666666666666666,\"#ed7953\"],[0.7777777777777778,\"#fb9f3a\"],[0.8888888888888888,\"#fdca26\"],[1.0,\"#f0f921\"]]}],\"mesh3d\":[{\"type\":\"mesh3d\",\"colorbar\":{\"outlinewidth\":0,\"ticks\":\"\"}}],\"scatter\":[{\"fillpattern\":{\"fillmode\":\"overlay\",\"size\":10,\"solidity\":0.2},\"type\":\"scatter\"}],\"parcoords\":[{\"type\":\"parcoords\",\"line\":{\"colorbar\":{\"outlinewidth\":0,\"ticks\":\"\"}}}],\"scatterpolargl\":[{\"type\":\"scatterpolargl\",\"marker\":{\"colorbar\":{\"outlinewidth\":0,\"ticks\":\"\"}}}],\"bar\":[{\"error_x\":{\"color\":\"#2a3f5f\"},\"error_y\":{\"color\":\"#2a3f5f\"},\"marker\":{\"line\":{\"color\":\"#E5ECF6\",\"width\":0.5},\"pattern\":{\"fillmode\":\"overlay\",\"size\":10,\"solidity\":0.2}},\"type\":\"bar\"}],\"scattergeo\":[{\"type\":\"scattergeo\",\"marker\":{\"colorbar\":{\"outlinewidth\":0,\"ticks\":\"\"}}}],\"scatterpolar\":[{\"type\":\"scatterpolar\",\"marker\":{\"colorbar\":{\"outlinewidth\":0,\"ticks\":\"\"}}}],\"histogram\":[{\"marker\":{\"pattern\":{\"fillmode\":\"overlay\",\"size\":10,\"solidity\":0.2}},\"type\":\"histogram\"}],\"scattergl\":[{\"type\":\"scattergl\",\"marker\":{\"colorbar\":{\"outlinewidth\":0,\"ticks\":\"\"}}}],\"scatter3d\":[{\"type\":\"scatter3d\",\"line\":{\"colorbar\":{\"outlinewidth\":0,\"ticks\":\"\"}},\"marker\":{\"colorbar\":{\"outlinewidth\":0,\"ticks\":\"\"}}}],\"scattermapbox\":[{\"type\":\"scattermapbox\",\"marker\":{\"colorbar\":{\"outlinewidth\":0,\"ticks\":\"\"}}}],\"scatterternary\":[{\"type\":\"scatterternary\",\"marker\":{\"colorbar\":{\"outlinewidth\":0,\"ticks\":\"\"}}}],\"scattercarpet\":[{\"type\":\"scattercarpet\",\"marker\":{\"colorbar\":{\"outlinewidth\":0,\"ticks\":\"\"}}}],\"carpet\":[{\"aaxis\":{\"endlinecolor\":\"#2a3f5f\",\"gridcolor\":\"white\",\"linecolor\":\"white\",\"minorgridcolor\":\"white\",\"startlinecolor\":\"#2a3f5f\"},\"baxis\":{\"endlinecolor\":\"#2a3f5f\",\"gridcolor\":\"white\",\"linecolor\":\"white\",\"minorgridcolor\":\"white\",\"startlinecolor\":\"#2a3f5f\"},\"type\":\"carpet\"}],\"table\":[{\"cells\":{\"fill\":{\"color\":\"#EBF0F8\"},\"line\":{\"color\":\"white\"}},\"header\":{\"fill\":{\"color\":\"#C8D4E3\"},\"line\":{\"color\":\"white\"}},\"type\":\"table\"}],\"barpolar\":[{\"marker\":{\"line\":{\"color\":\"#E5ECF6\",\"width\":0.5},\"pattern\":{\"fillmode\":\"overlay\",\"size\":10,\"solidity\":0.2}},\"type\":\"barpolar\"}],\"pie\":[{\"automargin\":true,\"type\":\"pie\"}]},\"layout\":{\"autotypenumbers\":\"strict\",\"colorway\":[\"#636efa\",\"#EF553B\",\"#00cc96\",\"#ab63fa\",\"#FFA15A\",\"#19d3f3\",\"#FF6692\",\"#B6E880\",\"#FF97FF\",\"#FECB52\"],\"font\":{\"color\":\"#2a3f5f\"},\"hovermode\":\"closest\",\"hoverlabel\":{\"align\":\"left\"},\"paper_bgcolor\":\"white\",\"plot_bgcolor\":\"#E5ECF6\",\"polar\":{\"bgcolor\":\"#E5ECF6\",\"angularaxis\":{\"gridcolor\":\"white\",\"linecolor\":\"white\",\"ticks\":\"\"},\"radialaxis\":{\"gridcolor\":\"white\",\"linecolor\":\"white\",\"ticks\":\"\"}},\"ternary\":{\"bgcolor\":\"#E5ECF6\",\"aaxis\":{\"gridcolor\":\"white\",\"linecolor\":\"white\",\"ticks\":\"\"},\"baxis\":{\"gridcolor\":\"white\",\"linecolor\":\"white\",\"ticks\":\"\"},\"caxis\":{\"gridcolor\":\"white\",\"linecolor\":\"white\",\"ticks\":\"\"}},\"coloraxis\":{\"colorbar\":{\"outlinewidth\":0,\"ticks\":\"\"}},\"colorscale\":{\"sequential\":[[0.0,\"#0d0887\"],[0.1111111111111111,\"#46039f\"],[0.2222222222222222,\"#7201a8\"],[0.3333333333333333,\"#9c179e\"],[0.4444444444444444,\"#bd3786\"],[0.5555555555555556,\"#d8576b\"],[0.6666666666666666,\"#ed7953\"],[0.7777777777777778,\"#fb9f3a\"],[0.8888888888888888,\"#fdca26\"],[1.0,\"#f0f921\"]],\"sequentialminus\":[[0.0,\"#0d0887\"],[0.1111111111111111,\"#46039f\"],[0.2222222222222222,\"#7201a8\"],[0.3333333333333333,\"#9c179e\"],[0.4444444444444444,\"#bd3786\"],[0.5555555555555556,\"#d8576b\"],[0.6666666666666666,\"#ed7953\"],[0.7777777777777778,\"#fb9f3a\"],[0.8888888888888888,\"#fdca26\"],[1.0,\"#f0f921\"]],\"diverging\":[[0,\"#8e0152\"],[0.1,\"#c51b7d\"],[0.2,\"#de77ae\"],[0.3,\"#f1b6da\"],[0.4,\"#fde0ef\"],[0.5,\"#f7f7f7\"],[0.6,\"#e6f5d0\"],[0.7,\"#b8e186\"],[0.8,\"#7fbc41\"],[0.9,\"#4d9221\"],[1,\"#276419\"]]},\"xaxis\":{\"gridcolor\":\"white\",\"linecolor\":\"white\",\"ticks\":\"\",\"title\":{\"standoff\":15},\"zerolinecolor\":\"white\",\"automargin\":true,\"zerolinewidth\":2},\"yaxis\":{\"gridcolor\":\"white\",\"linecolor\":\"white\",\"ticks\":\"\",\"title\":{\"standoff\":15},\"zerolinecolor\":\"white\",\"automargin\":true,\"zerolinewidth\":2},\"scene\":{\"xaxis\":{\"backgroundcolor\":\"#E5ECF6\",\"gridcolor\":\"white\",\"linecolor\":\"white\",\"showbackground\":true,\"ticks\":\"\",\"zerolinecolor\":\"white\",\"gridwidth\":2},\"yaxis\":{\"backgroundcolor\":\"#E5ECF6\",\"gridcolor\":\"white\",\"linecolor\":\"white\",\"showbackground\":true,\"ticks\":\"\",\"zerolinecolor\":\"white\",\"gridwidth\":2},\"zaxis\":{\"backgroundcolor\":\"#E5ECF6\",\"gridcolor\":\"white\",\"linecolor\":\"white\",\"showbackground\":true,\"ticks\":\"\",\"zerolinecolor\":\"white\",\"gridwidth\":2}},\"shapedefaults\":{\"line\":{\"color\":\"#2a3f5f\"}},\"annotationdefaults\":{\"arrowcolor\":\"#2a3f5f\",\"arrowhead\":0,\"arrowwidth\":1},\"geo\":{\"bgcolor\":\"white\",\"landcolor\":\"#E5ECF6\",\"subunitcolor\":\"white\",\"showland\":true,\"showlakes\":true,\"lakecolor\":\"white\"},\"title\":{\"x\":0.05},\"mapbox\":{\"style\":\"light\"}}},\"xaxis\":{\"anchor\":\"y\",\"domain\":[0.0,1.0],\"title\":{\"text\":\"year\"}},\"yaxis\":{\"anchor\":\"x\",\"domain\":[0.0,1.0],\"title\":{\"text\":\"anteil_innerVerbs\"}},\"legend\":{\"title\":{\"text\":\"reprint-count\"},\"tracegroupgap\":0},\"margin\":{\"t\":60}},                        {\"responsive\": true}                    ).then(function(){\n",
       "                            \n",
       "var gd = document.getElementById('2a52c334-243d-4c6e-a913-dc1b6a5f42aa');\n",
       "var x = new MutationObserver(function (mutations, observer) {{\n",
       "        var display = window.getComputedStyle(gd).display;\n",
       "        if (!display || display === 'none') {{\n",
       "            console.log([gd, 'removed!']);\n",
       "            Plotly.purge(gd);\n",
       "            observer.disconnect();\n",
       "        }}\n",
       "}});\n",
       "\n",
       "// Listen for the removal of the full notebook cells\n",
       "var notebookContainer = gd.closest('#notebook-container');\n",
       "if (notebookContainer) {{\n",
       "    x.observe(notebookContainer, {childList: true});\n",
       "}}\n",
       "\n",
       "// Listen for the clearing of the current output cell\n",
       "var outputEl = gd.closest('.output');\n",
       "if (outputEl) {{\n",
       "    x.observe(outputEl, {childList: true});\n",
       "}}\n",
       "\n",
       "                        })                };                });            </script>        </div>"
      ]
     },
     "metadata": {},
     "output_type": "display_data"
    }
   ],
   "source": [
    "metadata = get_metadata(\"deu\")\n",
    "data = get_data(\"deu\")\n",
    "    \n",
    "df = concatenate_dfs(metadata,data)\n",
    "    \n",
    "plot_scatterplot(df, \"deu\")\n"
   ]
  }
 ],
 "metadata": {
  "kernelspec": {
   "display_name": "Python 3.10 (tensorflow)",
   "language": "python",
   "name": "tensorflow"
  },
  "language_info": {
   "codemirror_mode": {
    "name": "ipython",
    "version": 3
   },
   "file_extension": ".py",
   "mimetype": "text/x-python",
   "name": "python",
   "nbconvert_exporter": "python",
   "pygments_lexer": "ipython3",
   "version": "3.10.8"
  }
 },
 "nbformat": 4,
 "nbformat_minor": 5
}
